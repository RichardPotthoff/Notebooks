{
 "cells": [
  {
   "cell_type": "code",
   "execution_count": null,
   "id": "b8e68b30-f927-4ba8-acf9-86a31020f4a7",
   "metadata": {
    "collapsed": false,
    "editable": true,
    "jupyter": {
     "outputs_hidden": false,
     "source_hidden": false
    },
    "pythonista": {
     "disabled": false
    },
    "slideshow": {
     "slide_type": ""
    },
    "tags": []
   },
   "outputs": [],
   "source": [
    "plist_path = \"/private/var/mobile/Containers/Data/Application/8C15CF35-580B-488E-9B29-D89BDB144E80/Library/Application Support/RecentFiles.plist\"\n",
    "file_path=\"/private/var/mobile/Containers/Data/Application/77881549-3FA6-4E4B-803F-D53B172FC865/Documents/Notebooks/PythonistalabTest.ipynb\""
   ]
  },
  {
   "cell_type": "code",
   "execution_count": null,
   "id": "091ca9f9-b6cf-4caa-b831-83773819e8f1",
   "metadata": {
    "collapsed": false,
    "jupyter": {
     "outputs_hidden": false,
     "source_hidden": false
    },
    "pythonista": {
     "disabled": false
    }
   },
   "outputs": [],
   "source": [
    "import re\n",
    "import plistlib\n",
    "\n",
    "# Allowed file extensions\n",
    "allowed_extensions = ['txt','doc','pdf','ipynb', 'py']\n",
    "extension_pattern = '|'.join(allowed_extensions)\n",
    "# Simpler Unicode regex for file paths\n",
    "pattern = rf'(?:(?:/)?[\\w\\-\\.]+(?:/[\\w\\-\\.]+)*)\\.(?:{extension_pattern})'\n",
    "\n",
    "def extract_paths(binary_data):\n",
    "    \"\"\"Extract file paths from a binary string using Unicode regex.\"\"\"\n",
    "    # Decode with 'replace' to handle invalid sequences\n",
    "    text_data = binary_data.decode('utf-8', errors='replace')\n",
    "    try:\n",
    "        matches = re.findall(pattern, text_data)\n",
    "        return matches\n",
    "    except re.error as e:\n",
    "        print(f\"Regex error: {e}\")\n",
    "        return []\n",
    "\n",
    "def get_current_notebook_path():\n",
    "    \"\"\"Get the most recent notebook path from RecentFiles.plist.\"\"\"\n",
    "    plist_path = \"/private/var/mobile/Containers/Data/Application/8C15CF35-580B-488E-9B29-D89BDB144E80/Library/Application Support/RecentFiles.plist\"\n",
    "    with open(plist_path, 'rb') as f:\n",
    "        return extract_paths(plistlib.load(f)[0])[-1]\n",
    "    \n",
    "\n",
    "# Test the functions\n",
    "if __name__ == \"__main__\":\n",
    "    print(f\"{get_current_notebook_path() = }\\n\")\n",
    "    \n",
    "    # Example usage\n",
    "    print(\"Example for 'extract_paths':\")\n",
    "    binary_data = b\"data /Users/test/file.txt\\xA4invalid/home/\\xe6\\x96\\x87\\xe6\\xa1\\xa3/doc.pdf PythonistalabTest.ipynb\"\n",
    "    print(extract_paths(binary_data))\n",
    "    \n",
    "    # Full plist contents\n",
    "    print(\"\\nFile paths in RecentFiles.plist:\")\n",
    "    plist_path = \"/private/var/mobile/Containers/Data/Application/8C15CF35-580B-488E-9B29-D89BDB144E80/Library/Application Support/RecentFiles.plist\"\n",
    "    with open(plist_path, 'rb') as f:\n",
    "        # plist_data is a list of binary strings (not dictionaries)\n",
    "        for i,binary_string in enumerate(plistlib.load(f)):\n",
    "            print(i,extract_paths(binary_string),end='\\n\\n')"
   ]
  },
  {
   "cell_type": "code",
   "execution_count": null,
   "id": "19892781-db04-414f-9e4b-ccd8158cf639",
   "metadata": {
    "collapsed": false,
    "jupyter": {
     "outputs_hidden": false,
     "source_hidden": false
    },
    "pythonista": {
     "disabled": false
    }
   },
   "outputs": [
    {
     "name": "stdout",
     "output_type": "stream",
     "text": [
      "For loop with append: 0.6737396669923328\n"
     ]
    },
    {
     "name": "stdout",
     "output_type": "stream",
     "text": [
      "List(generator): 0.7003315419424325\n"
     ]
    }
   ],
   "source": [
    "import timeit\n",
    "\n",
    "setup = '''\n",
    "matches = [b'test' * 1000 for _ in range(1000)]\n",
    "def with_comprehension():\n",
    "    return [m_d for match in matches for m_d in (match.decode('utf-8', errors='ignore'),) if m_d]\n",
    "\n",
    "def with_loop():\n",
    "    result = []\n",
    "    for match in matches:\n",
    "        m_d = match.decode('utf-8', errors='ignore')\n",
    "        if m_d:\n",
    "            result.append(m_d)\n",
    "    return result\n",
    "\n",
    "def with_generator():\n",
    "    return list(m_d for match in matches if (m_d := match.decode('utf-8', errors='ignore')))\n",
    "'''\n",
    "\n",
    "print(\"List comprehension:\", timeit.timeit('with_comprehension()', setup=setup, number=1000))\n",
    "print(\"For loop with append:\", timeit.timeit('with_loop()', setup=setup, number=1000))\n",
    "print(\"List(generator):\", timeit.timeit('with_generator()', setup=setup, number=1000))"
   ]
  },
  {
   "cell_type": "code",
   "execution_count": null,
   "id": "f68fa623-4a12-48ce-b310-a3673a3bc163",
   "metadata": {
    "collapsed": false,
    "jupyter": {
     "outputs_hidden": false,
     "source_hidden": false
    },
    "pythonista": {
     "disabled": false
    }
   },
   "outputs": [],
   "source": [
    " matches"
   ]
  },
  {
   "cell_type": "code",
   "execution_count": null,
   "id": "37a8b80f-eab8-470b-b038-2ec9a9855762",
   "metadata": {
    "collapsed": false,
    "jupyter": {
     "outputs_hidden": false,
     "source_hidden": false
    },
    "pythonista": {
     "disabled": false
    }
   },
   "outputs": [],
   "source": [
    "import os\n",
    "os.environ"
   ]
  },
  {
   "cell_type": "code",
   "execution_count": null,
   "id": "a744b0ca-5756-4e1e-99f6-4f5c647dfe2f",
   "metadata": {
    "collapsed": false,
    "jupyter": {
     "outputs_hidden": false,
     "source_hidden": false
    },
    "pythonista": {
     "disabled": false
    }
   },
   "outputs": [],
   "source": [
    "for i in range(len(plist_data)):\n",
    "  print(f'({plist_data[i][:4] = }\\n {plist_data[i][4]+plist_data[i][5]*256 =}\\n {len(plist_data[i])=}\\n{','.join(str(c) for c in plist_data[i][6:40])=} ) ')"
   ]
  },
  {
   "cell_type": "code",
   "execution_count": null,
   "id": "0136b651-9d63-4005-a87a-947a03b70d0e",
   "metadata": {
    "collapsed": false,
    "jupyter": {
     "outputs_hidden": false,
     "source_hidden": false
    },
    "pythonista": {
     "disabled": false
    }
   },
   "outputs": [],
   "source": [
    "plist_data[0][40:80]\n"
   ]
  },
  {
   "cell_type": "code",
   "execution_count": null,
   "id": "562ffa6c-e4c5-4e31-81af-2f889429f14c",
   "metadata": {
    "collapsed": false,
    "jupyter": {
     "outputs_hidden": false,
     "source_hidden": false
    },
    "pythonista": {
     "disabled": false
    }
   },
   "outputs": [],
   "source": [
    "import plistlib\n",
    "\n",
    "# Path to the .plist file\n",
    "#plist_path = \"/private/var/mobile/Containers/Data/Application/8C15CF35-580B-48E9-9F5A-7B9D5A2E0940/Library/Application Support/your_plist_file.plist\"\n",
    "\n",
    "try:\n",
    "    # Read the .plist file using plistlib\n",
    "    with open(plist_path, 'rb') as plist_file:\n",
    "        plist_data = plistlib.load(plist_file)\n",
    "    \n",
    "    if not plist_data:\n",
    "        print(\"No recent files found.\")\n",
    "        exit()\n",
    "    \n",
    "    # Parse the first binary string (most recent file)\n",
    "    binary_string = plist_data[0]['book']\n",
    "    \n",
    "    # Validate the header\n",
    "    if binary_string[:4] != b'book':\n",
    "        print(\"Unexpected format: First 4 bytes are not 'book'.\")\n",
    "        exit()\n",
    "    \n",
    "    # Extract the length (bytes 4-5, little-endian)\n",
    "    record_length = int.from_bytes(binary_string[4:6], 'little')\n",
    "    print(f\"Record length: {record_length} bytes\")\n",
    "    \n",
    "    # Parse the header\n",
    "    header_size = 38\n",
    "    if len(binary_string) < header_size:\n",
    "        print(\"Binary string too short to contain a header.\")\n",
    "        exit()\n",
    "    \n",
    "    # Extract the first offset (bytes 11-18, little-endian)\n",
    "    next_offset = int.from_bytes(binary_string[11:19], 'little')\n",
    "    print(f\"First offset from header: {next_offset}\")\n",
    "    \n",
    "    # Parse the fields\n",
    "    pos = next_offset\n",
    "    fields = []\n",
    "    while pos < len(binary_string):\n",
    "        # Check for the type indicator (e.g., 0,0,0,4,16)\n",
    "        if pos + 5 > len(binary_string):\n",
    "            break\n",
    "        type_indicator = binary_string[pos:pos+5]\n",
    "        pos += 5\n",
    "        \n",
    "        # Extract the offset to the next field (8 bytes, little-endian)\n",
    "        if pos + 8 > len(binary_string):\n",
    "            break\n",
    "        next_field_offset = int.from_bytes(binary_string[pos:pos+8], 'little')\n",
    "        pos += 8\n",
    "        \n",
    "        # Extract the field data (from current position to next_field_offset)\n",
    "        if next_field_offset < pos or next_field_offset > len(binary_string):\n",
    "            break\n",
    "        field_data = binary_string[pos:next_field_offset]\n",
    "        \n",
    "        # Try to decode the field as ASCII if possible\n",
    "        try:\n",
    "            field_str = field_data.decode('ascii')\n",
    "            print(f\"Field at offset {pos}: {field_str}\")\n",
    "            fields.append((field_str, pos))\n",
    "        except UnicodeDecodeError:\n",
    "            print(f\"Field at offset {pos}: (binary data, length {len(field_data)} bytes)\")\n",
    "            fields.append((field_data, pos))\n",
    "        \n",
    "        pos = next_field_offset\n",
    "    \n",
    "    # Look for the standalone filename and metadata list\n",
    "    filename = None\n",
    "    metadata = None\n",
    "    full_path = None\n",
    "    for field, offset in fields:\n",
    "        if isinstance(field, str):\n",
    "            if field.endswith(('.ipynb', '.py')) and ';' not in field:\n",
    "                filename = field\n",
    "                print(f\"Standalone filename at offset {offset}: {filename}\")\n",
    "            elif field.endswith(('.ipynb', '.py')) and ';' in field:\n",
    "                metadata = field\n",
    "                fields_split = metadata.split(';')\n",
    "                if fields_split and fields_split[-1].endswith(('.ipynb', '.py')):\n",
    "                    full_path = fields_split[-1]\n",
    "                    print(f\"Metadata list at offset {offset}: {metadata}\")\n",
    "                    print(f\"Full path: {full_path}\")\n",
    "\n",
    "except Exception as e:\n",
    "    print(f\"Failed to deserialize .plist: {e}\")"
   ]
  },
  {
   "cell_type": "code",
   "execution_count": null,
   "id": "5783cab3-228f-41d7-a8f7-e7aa06f62d3a",
   "metadata": {
    "collapsed": false,
    "jupyter": {
     "outputs_hidden": false,
     "source_hidden": false
    },
    "pythonista": {
     "disabled": false
    }
   },
   "outputs": [],
   "source": [
    "for i,a in enumerate(plist_data[1]):\n",
    "  if i%64==0: print()\n",
    "  c=chr(a)\n",
    "  print(c if c.isascii() and a>=32 else '.',end='',sep='')\n",
    "  \n",
    "print()\n"
   ]
  },
  {
   "cell_type": "code",
   "execution_count": null,
   "id": "8dcf0f01-b079-41ce-acac-b373b4d6212a",
   "metadata": {
    "collapsed": false,
    "jupyter": {
     "outputs_hidden": false,
     "source_hidden": false
    },
    "pythonista": {
     "disabled": false
    }
   },
   "outputs": [],
   "source": [
    "fn=[None]*2\n",
    "fn[0]='eccf58258e501d971934c668b61ff90fa17b7f29a9a81abad12096dd00790744;00;00000000;00000000;00000000;0000000000000020;com.apple.app-sandbox.read-write;01;01000004;0000000006482a8c;12;/private/var/mobile/Containers/Data/Application/77881549-3FA6-4E4B-803F-D53B172FC865/Documents/Notebooks/PythonistalabTest.ipynb'\n",
    "fn[1]='afa7edfad4d2ca243dc112b100235b6df391c5342db82a19a696bc783a2f7178;00;00000000;00000000;00000000;0000000000000020;com.apple.app-sandbox.read-write;01;01000004;00000000064800be;12;/private/var/mobile/Containers/Data/Application/77881549-3FA6-4E4B-803F-D53B172FC865/Documents/Notebooks/get_path.py'\n",
    "[len(f) for f in fn]"
   ]
  },
  {
   "cell_type": "code",
   "execution_count": null,
   "id": "9cd373dc-8306-4a9a-b534-430096ed7815",
   "metadata": {
    "collapsed": false,
    "jupyter": {
     "outputs_hidden": false,
     "source_hidden": false
    },
    "pythonista": {
     "disabled": false
    }
   },
   "outputs": [],
   "source": [
    "pos=plist_data[0].find(bytes((305-256+1,1))) \n",
    "plist_data[0][pos-10:pos+10] "
   ]
  },
  {
   "cell_type": "code",
   "execution_count": null,
   "id": "a11ec877-2f6e-4595-a55a-0f673b8a37f3",
   "metadata": {
    "collapsed": false,
    "jupyter": {
     "outputs_hidden": false,
     "source_hidden": false
    },
    "pythonista": {
     "disabled": false
    }
   },
   "outputs": [],
   "source": [
    "pos=plist_data[1].find(bytes((293-256+1,1))) \n",
    "plist_data[1][pos-10:pos+10] "
   ]
  },
  {
   "cell_type": "code",
   "execution_count": null,
   "id": "24d48101-24d5-40dc-941e-e9b10faf2244",
   "metadata": {
    "collapsed": false,
    "jupyter": {
     "outputs_hidden": false,
     "source_hidden": false
    },
    "pythonista": {
     "disabled": false
    }
   },
   "outputs": [],
   "source": [
    "pos=plist_data[1].find(b'private')\n",
    "print(pos)\n",
    "plist_data[1][pos-8:pos+15] "
   ]
  },
  {
   "cell_type": "code",
   "execution_count": null,
   "id": "d1fc60aa-851f-440a-9ae0-dced6a50de91",
   "metadata": {
    "collapsed": false,
    "jupyter": {
     "outputs_hidden": false,
     "source_hidden": false
    },
    "pythonista": {
     "disabled": false
    }
   },
   "outputs": [],
   "source": []
  },
  {
   "cell_type": "code",
   "execution_count": null,
   "id": "179d385a-f59b-49da-83da-ceda374d3dcc",
   "metadata": {
    "collapsed": false,
    "editable": true,
    "jupyter": {
     "outputs_hidden": false,
     "source_hidden": false
    },
    "pythonista": {
     "disabled": false
    },
    "slideshow": {
     "slide_type": ""
    },
    "tags": [
     "CarnetsTag1:10",
     "CarnetsTag2:false"
    ]
   },
   "outputs": [],
   "source": [
    "import sys\n",
    "sys.path.insert(0,'/private/var/mobile/Containers/Data/Application/8C15CF35-580B-488E-9B29-D89BDB144E80/Documents/Documents/site-packages')"
   ]
  },
  {
   "cell_type": "code",
   "execution_count": null,
   "id": "7fb891b3-39ac-49d5-91ae-78a7c6654b68",
   "metadata": {
    "collapsed": false,
    "editable": true,
    "jupyter": {
     "outputs_hidden": false,
     "source_hidden": false
    },
    "pythonista": {
     "colorLabel": "red",
     "disabled": false
    },
    "slideshow": {
     "slide_type": ""
    },
    "tags": []
   },
   "outputs": [],
   "source": [
    "import jupytext\n"
   ]
  },
  {
   "cell_type": "code",
   "execution_count": null,
   "id": "dbce2115-18c9-4c2f-b5db-e20eebb7bf02",
   "metadata": {
    "collapsed": false,
    "editable": true,
    "jupyter": {
     "outputs_hidden": false,
     "source_hidden": false
    },
    "pythonista": {
     "disabled": false
    },
    "slideshow": {
     "slide_type": ""
    },
    "tags": []
   },
   "outputs": [],
   "source": [
    "os.chdir(os.path.dirname(get_current_notebook_path()))"
   ]
  },
  {
   "cell_type": "code",
   "execution_count": null,
   "id": "2600d2f5-4471-4bc8-84f6-56285d0ba392",
   "metadata": {
    "collapsed": false,
    "editable": true,
    "jupyter": {
     "outputs_hidden": false,
     "source_hidden": false
    },
    "pythonista": {
     "disabled": false
    },
    "slideshow": {
     "slide_type": ""
    },
    "tags": []
   },
   "outputs": [],
   "source": [
    "jupytext.write(jupytext.read('PythonistalabTest.ipynb'),'PythonistalabTest.md')\n"
   ]
  },
  {
   "cell_type": "code",
   "execution_count": null,
   "id": "2750274a-ddbb-422f-848f-e6242a89693b",
   "metadata": {
    "collapsed": false,
    "editable": true,
    "jupyter": {
     "outputs_hidden": false,
     "source_hidden": false
    },
    "pythonista": {
     "colorLabel": "blue",
     "disabled": true
    },
    "slideshow": {
     "slide_type": ""
    },
    "tags": []
   },
   "outputs": [],
   "source": [
    "os.listdir()\n",
    " "
   ]
  }
 ],
 "metadata": {
  "jupytext": {
   "formats": "ipynb,md"
  },
  "kernelspec": {
   "display_name": "Python 3 (ipykernel)",
   "language": "python",
   "name": "python3"
  },
  "language_info": {
   "codemirror_mode": {
    "name": "ipython",
    "version": 3
   },
   "file_extension": ".py",
   "mimetype": "text/x-python",
   "name": "python",
   "nbconvert_exporter": "python",
   "pygments_lexer": "ipython3",
   "version": "3.11.0"
  }
 },
 "nbformat": 4,
 "nbformat_minor": 5
}
