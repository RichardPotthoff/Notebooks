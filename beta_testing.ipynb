{
 "cells": [
  {
   "cell_type": "markdown",
   "metadata": {
    "collapsed": false,
    "jupyter": {
     "outputs_hidden": false,
     "source_hidden": false
    },
    "pythonista": {
     "disabled": false
    }
   },
   "source": [
    "[![Run Jupyter Notebooks](https://mybinder.org/badge_logo.svg)](https://mybinder.org/v2/gh/RichardPotthoff/Notebooks/main?filepath=beta_testing.ipynb)   <- click here to open this file in MyBinder\n",
    "   \n",
    "[![Open In Colab](https://colab.research.google.com/assets/colab-badge.svg)](https://colab.research.google.com/github/RichardPotthoff/Notebooks/blob/main/beta_testing.ipynb)   <- click here to open this file in Google Colab"
   ]
  },
  {
   "cell_type": "markdown",
   "metadata": {
    "collapsed": false,
    "jupyter": {
     "outputs_hidden": false,
     "source_hidden": false
    },
    "pythonista": {
     "disabled": false
    }
   },
   "source": [
    "# Tests"
   ]
  },
  {
   "cell_type": "markdown",
   "metadata": {
    "collapsed": false,
    "jupyter": {
     "outputs_hidden": false,
     "source_hidden": false
    },
    "pythonista": {
     "disabled": false
    }
   },
   "source": [
    "## Tests for global \"window\" instance"
   ]
  },
  {
   "cell_type": "code",
   "execution_count": null,
   "metadata": {
    "collapsed": false,
    "jupyter": {
     "outputs_hidden": false,
     "source_hidden": false
    },
    "pythonista": {
     "disabled": false
    }
   },
   "outputs": [],
   "source": [
    "%%js\n",
    "//alert(document.body)\n",
    "window.test={result:true}\n",
    "//alert(\"test.result= \"+test.result)"
   ]
  },
  {
   "cell_type": "code",
   "execution_count": null,
   "metadata": {
    "collapsed": false,
    "jupyter": {
     "outputs_hidden": false,
     "source_hidden": false
    },
    "pythonista": {
     "disabled": false
    }
   },
   "outputs": [],
   "source": [
    "%%js\n",
    "alert(\"test.result= \"+test.result)"
   ]
  },
  {
   "cell_type": "markdown",
   "metadata": {
    "collapsed": false,
    "jupyter": {
     "outputs_hidden": false,
     "source_hidden": false
    },
    "pythonista": {
     "disabled": false
    }
   },
   "source": [
    "| Implementation | Test Result |\n",
    "|---|---|\n",
    "| Pythonista Lab v1.0b7 | **Alert** test.result= true |\n",
    "| Carnets SCI (nb+lab+classic) | **Alert** test.result= true |\n",
    "| MyBinder (nb+lab) | **Alert** test.result= true |\n",
    "| Google Colab | *no output* |"
   ]
  },
  {
   "cell_type": "markdown",
   "metadata": {
    "collapsed": false,
    "jupyter": {
     "outputs_hidden": false,
     "source_hidden": false
    },
    "pythonista": {
     "disabled": false
    }
   },
   "source": [
    "## Test for \"IPython\", \"Jupyter\" in JavaScript"
   ]
  },
  {
   "cell_type": "code",
   "execution_count": null,
   "metadata": {
    "collapsed": false,
    "jupyter": {
     "outputs_hidden": false,
     "source_hidden": false
    },
    "pythonista": {
     "disabled": false
    }
   },
   "outputs": [],
   "source": [
    "%%js\n",
    "alert(IPython)"
   ]
  },
  {
   "cell_type": "markdown",
   "metadata": {
    "collapsed": false,
    "jupyter": {
     "outputs_hidden": false,
     "source_hidden": false
    },
    "pythonista": {
     "disabled": false
    }
   },
   "source": [
    "| Implementation | Test Result |\n",
    "|:---|:---|\n",
    "| Pythonista Lab v1.0b7 | *no output* |\n",
    "| Carnets SCI (nb+lab) | Javascript Error: Can't find variable: IPython |\n",
    "| Carnets SCI classic | [object Object] |\n",
    "| MyBinder | Javascript Error: Can't find variable: IPython |\n",
    "| Google Colab | *no output* |"
   ]
  },
  {
   "cell_type": "code",
   "execution_count": null,
   "metadata": {
    "collapsed": false,
    "jupyter": {
     "outputs_hidden": false,
     "source_hidden": false
    },
    "pythonista": {
     "disabled": false
    }
   },
   "outputs": [],
   "source": [
    "%%js\n",
    "alert(Jupyter)"
   ]
  },
  {
   "cell_type": "markdown",
   "metadata": {
    "collapsed": false,
    "jupyter": {
     "outputs_hidden": false,
     "source_hidden": false
    },
    "pythonista": {
     "disabled": false
    }
   },
   "source": [
    "| Implementation | Test Result |\n",
    "|:---|:---|\n",
    "| Pythonista Lab v1.0b7 | *no output* |\n",
    "| Carnets SCI (nb+Lab) | Javascript Error: Can't find variable: Jupyter |\n",
    "| Carnets SCI classic | [object Object] |\n",
    "| MyBinder (nb+lab)| Javascript Error: Can't find variable: Jupyter |\n",
    "| Google Colab | *no output* |"
   ]
  },
  {
   "cell_type": "markdown",
   "metadata": {
    "collapsed": false,
    "jupyter": {
     "outputs_hidden": false,
     "source_hidden": false
    },
    "pythonista": {
     "disabled": false
    }
   },
   "source": [
    "## Test for \"element\" in Javascript"
   ]
  },
  {
   "cell_type": "code",
   "execution_count": null,
   "metadata": {
    "collapsed": false,
    "jupyter": {
     "outputs_hidden": false,
     "source_hidden": false
    },
    "pythonista": {
     "disabled": false
    }
   },
   "outputs": [],
   "source": [
    "%%js\n",
    "alert(element)"
   ]
  },
  {
   "cell_type": "markdown",
   "metadata": {
    "collapsed": false,
    "jupyter": {
     "outputs_hidden": false,
     "source_hidden": false
    },
    "pythonista": {
     "disabled": false,
     "parentCellID": "0d2eab05-5274-4f15-89dd-3a55e1fae3f6"
    }
   },
   "source": [
    "| Implementation | Test Result |\n",
    "|:---|:---|\n",
    "| Pythonista Lab v1.0b7 | *no output* |\n",
    "| Carnets SCI (nb+Lab) | [object HTMLDivElement] |\n",
    "| Carnets SCI classic | [object Object] |\n",
    "| MyBinder (nb+lab)| [object HTMLDivElement] |\n",
    "| Google Colab | [object HTMLDivElement] |"
   ]
  },
  {
   "cell_type": "markdown",
   "metadata": {
    "collapsed": false,
    "jupyter": {
     "outputs_hidden": false,
     "source_hidden": false
    },
    "pythonista": {
     "disabled": false
    }
   },
   "source": [
    "## Console output tests"
   ]
  },
  {
   "cell_type": "code",
   "execution_count": null,
   "metadata": {
    "collapsed": false,
    "jupyter": {
     "outputs_hidden": false,
     "source_hidden": false
    },
    "pythonista": {
     "disabled": false
    }
   },
   "outputs": [],
   "source": [
    "%%js\n",
    "console.log(\"My custom message\");"
   ]
  },
  {
   "cell_type": "markdown",
   "metadata": {
    "collapsed": false,
    "jupyter": {
     "outputs_hidden": false,
     "source_hidden": false
    },
    "pythonista": {
     "disabled": false,
     "parentCellID": "0d2eab05-5274-4f15-89dd-3a55e1fae3f6"
    }
   },
   "source": [
    "| Implementation | Test Result |\n",
    "|:---|:---|\n",
    "| Pythonista Lab v1.0b7 | *no output* |\n",
    "| Carnets SCI (nb+Lab) | *no output* |\n",
    "| Carnets SCI classic | *no output* |\n",
    "| MyBinder (nb+lab)| *no output* |\n",
    "| Google Colab | *no output* |"
   ]
  },
  {
   "cell_type": "markdown",
   "metadata": {
    "collapsed": false,
    "jupyter": {
     "outputs_hidden": false,
     "source_hidden": false
    },
    "pythonista": {
     "disabled": false,
     "parentCellID": "4b09b153-9fd5-4c1a-999e-7f8e5eca672b"
    }
   },
   "source": [
    "## Console hook tests"
   ]
  },
  {
   "cell_type": "code",
   "execution_count": null,
   "metadata": {
    "collapsed": false,
    "jupyter": {
     "outputs_hidden": false,
     "source_hidden": false
    },
    "pythonista": {
     "disabled": false
    }
   },
   "outputs": [],
   "source": [
    "%%js\n",
    "try{console._o=console._o||{log:console.log,error:console.error,warn:console.warn,info:console.info};[['log'],['error','red'],['warn'],['info']].forEach(([t,c=\"black\"])=>{console[t]=console._o[t];let d=element.consoleOutput;if(!d){d=document.createElement(\"div\");d.id=\"console-output\";d.style.cssText=\"white-space:pre-wrap;font-family:monospace;padding:0px;background:#f0f0f0;line-height:1.1;\";element.appendChild(d);element.consoleOutput=d;}let o=console[t],n=o;while(n&&n.toString().indexOf(\"[native code]\")<0)n=n.apply?function(...a){return n.apply(this,a);}:null;o=function(...a){(n||console._o[t]).apply(console,a);let s=a.map(e=>typeof e==='object'?JSON.stringify(e,null,2):e).join(' ');const m=document.createElement(\"div\");m.innerHTML=`[${t.toUpperCase()}] ${s}`;m.style.cssText=`margin:0;line-height:1.1;padding:0px 0;color:${c};`;d.appendChild(m);};console[t]=o;});\n",
    "\n",
    "console.log(\"My custom message\");\n",
    "\n",
    "}catch(e){console.error(\"Error:\",e);}finally{[['log'],['error','red'],['warn'],['info']].forEach(([t])=>console._o&&console._o[t]&&(console[t]=console._o[t]));}"
   ]
  },
  {
   "cell_type": "markdown",
   "metadata": {
    "collapsed": false,
    "jupyter": {
     "outputs_hidden": false,
     "source_hidden": false
    },
    "pythonista": {
     "disabled": false
    }
   },
   "source": [
    "| Implementation | Test Result |\n",
    "|:---|:---|\n",
    "| Pythonista Lab v1.0b7 | *no output* |\n",
    "| Carnets SCI (nb+Lab) | [LOG] My custom message |\n",
    "| Carnets SCI classic | *no output* |\n",
    "| MyBinder (nb+lab)| [LOG] My custom message |\n",
    "| Google Colab | [LOG] My custom message |"
   ]
  },
  {
   "cell_type": "markdown",
   "metadata": {
    "collapsed": false,
    "jupyter": {
     "outputs_hidden": false,
     "source_hidden": false
    },
    "pythonista": {
     "disabled": false
    }
   },
   "source": [
    "## Print pdf"
   ]
  },
  {
   "cell_type": "code",
   "execution_count": 1,
   "metadata": {
    "collapsed": false,
    "jupyter": {
     "outputs_hidden": false,
     "source_hidden": true
    },
    "pythonista": {
     "disabled": false
    }
   },
   "outputs": [
    {
     "name": "stderr",
     "output_type": "stream",
     "text": [
      "\u001b[0;31m---------------------------------------------------------------------------\u001b[0m\u001b[0;31mModuleNotFoundError\u001b[0m                       Traceback (most recent call last)Cell \u001b[0;32mIn[2], line 54\u001b[0m\n",
      "\u001b[1;32m     52\u001b[0m plt\u001b[38;5;241m.\u001b[39mlegend()\n",
      "\u001b[1;32m     53\u001b[0m plt\u001b[38;5;241m.\u001b[39mgca()\u001b[38;5;241m.\u001b[39mset_axis_off()\n",
      "\u001b[0;32m---> 54\u001b[0m plt\u001b[38;5;241m.\u001b[39msavefig(\u001b[38;5;124m'\u001b[39m\u001b[38;5;124mdodecahedron.pdf\u001b[39m\u001b[38;5;124m'\u001b[39m)\n",
      "\u001b[1;32m     55\u001b[0m plt\u001b[38;5;241m.\u001b[39mshow()\n",
      "\u001b[1;32m     56\u001b[0m (xlim[\u001b[38;5;241m1\u001b[39m]\u001b[38;5;241m-\u001b[39mxlim[\u001b[38;5;241m0\u001b[39m])\u001b[38;5;241m/\u001b[39m(ylim[\u001b[38;5;241m1\u001b[39m]\u001b[38;5;241m-\u001b[39mylim[\u001b[38;5;241m0\u001b[39m])\n",
      "File \u001b[0;32m/var/containers/Bundle/Application/F72A0AC7-C0F7-42FE-9A0D-15E0B6ECA867/PythonistaLab.app/Frameworks/Py3Kit.framework/pylib/site-packages/matplotlib/pyplot.py:1229\u001b[0m, in \u001b[0;36msavefig\u001b[0;34m(*args, **kwargs)\u001b[0m\n",
      "\u001b[1;32m   1226\u001b[0m fig \u001b[38;5;241m=\u001b[39m gcf()\n",
      "\u001b[1;32m   1227\u001b[0m \u001b[38;5;66;03m# savefig default implementation has no return, so mypy is unhappy\u001b[39;00m\n",
      "\u001b[1;32m   1228\u001b[0m \u001b[38;5;66;03m# presumably this is here because subclasses can return?\u001b[39;00m\n",
      "\u001b[0;32m-> 1229\u001b[0m res \u001b[38;5;241m=\u001b[39m fig\u001b[38;5;241m.\u001b[39msavefig(\u001b[38;5;241m*\u001b[39margs, \u001b[38;5;241m*\u001b[39m\u001b[38;5;241m*\u001b[39mkwargs)  \u001b[38;5;66;03m# type: ignore[func-returns-value]\u001b[39;00m\n",
      "\u001b[1;32m   1230\u001b[0m fig\u001b[38;5;241m.\u001b[39mcanvas\u001b[38;5;241m.\u001b[39mdraw_idle()  \u001b[38;5;66;03m# Need this if 'transparent=True', to reset colors.\u001b[39;00m\n",
      "\u001b[1;32m   1231\u001b[0m \u001b[38;5;28;01mreturn\u001b[39;00m res\n",
      "File \u001b[0;32m/var/containers/Bundle/Application/F72A0AC7-C0F7-42FE-9A0D-15E0B6ECA867/PythonistaLab.app/Frameworks/Py3Kit.framework/pylib/site-packages/matplotlib/figure.py:3396\u001b[0m, in \u001b[0;36mFigure.savefig\u001b[0;34m(self, fname, transparent, **kwargs)\u001b[0m\n",
      "\u001b[1;32m   3394\u001b[0m     \u001b[38;5;28;01mfor\u001b[39;00m ax \u001b[38;5;129;01min\u001b[39;00m \u001b[38;5;28mself\u001b[39m\u001b[38;5;241m.\u001b[39maxes:\n",
      "\u001b[1;32m   3395\u001b[0m         _recursively_make_axes_transparent(stack, ax)\n",
      "\u001b[0;32m-> 3396\u001b[0m \u001b[38;5;28mself\u001b[39m\u001b[38;5;241m.\u001b[39mcanvas\u001b[38;5;241m.\u001b[39mprint_figure(fname, \u001b[38;5;241m*\u001b[39m\u001b[38;5;241m*\u001b[39mkwargs)\n",
      "File \u001b[0;32m/var/containers/Bundle/Application/F72A0AC7-C0F7-42FE-9A0D-15E0B6ECA867/PythonistaLab.app/Frameworks/Py3Kit.framework/pylib/site-packages/matplotlib/backend_bases.py:2145\u001b[0m, in \u001b[0;36mFigureCanvasBase.print_figure\u001b[0;34m(self, filename, dpi, facecolor, edgecolor, orientation, format, bbox_inches, pad_inches, bbox_extra_artists, backend, **kwargs)\u001b[0m\n",
      "\u001b[1;32m   2140\u001b[0m     _api\u001b[38;5;241m.\u001b[39mwarn_deprecated(\n",
      "\u001b[1;32m   2141\u001b[0m         \u001b[38;5;124m\"\u001b[39m\u001b[38;5;124m3.8\u001b[39m\u001b[38;5;124m\"\u001b[39m, name\u001b[38;5;241m=\u001b[39m\u001b[38;5;124m\"\u001b[39m\u001b[38;5;124mpapertype=\u001b[39m\u001b[38;5;124m'\u001b[39m\u001b[38;5;124mauto\u001b[39m\u001b[38;5;124m'\u001b[39m\u001b[38;5;124m\"\u001b[39m, addendum\u001b[38;5;241m=\u001b[39m\u001b[38;5;124m\"\u001b[39m\u001b[38;5;124mPass an explicit paper type, \u001b[39m\u001b[38;5;124m\"\u001b[39m\n",
      "\u001b[1;32m   2142\u001b[0m         \u001b[38;5;124m\"\u001b[39m\u001b[38;5;124m'\u001b[39m\u001b[38;5;124mfigure\u001b[39m\u001b[38;5;124m'\u001b[39m\u001b[38;5;124m, or omit the *papertype* argument entirely.\u001b[39m\u001b[38;5;124m\"\u001b[39m)\n",
      "\u001b[1;32m   2144\u001b[0m \u001b[38;5;66;03m# Remove the figure manager, if any, to avoid resizing the GUI widget.\u001b[39;00m\n",
      "\u001b[0;32m-> 2145\u001b[0m \u001b[38;5;28;01mwith\u001b[39;00m cbook\u001b[38;5;241m.\u001b[39m_setattr_cm(\u001b[38;5;28mself\u001b[39m, manager\u001b[38;5;241m=\u001b[39m\u001b[38;5;28;01mNone\u001b[39;00m), \\\n",
      "\u001b[1;32m   2146\u001b[0m      \u001b[38;5;28mself\u001b[39m\u001b[38;5;241m.\u001b[39m_switch_canvas_and_return_print_method(\u001b[38;5;28mformat\u001b[39m, backend) \\\n",
      "\u001b[1;32m   2147\u001b[0m          \u001b[38;5;28;01mas\u001b[39;00m print_method, \\\n",
      "\u001b[1;32m   2148\u001b[0m      cbook\u001b[38;5;241m.\u001b[39m_setattr_cm(\u001b[38;5;28mself\u001b[39m\u001b[38;5;241m.\u001b[39mfigure, dpi\u001b[38;5;241m=\u001b[39mdpi), \\\n",
      "\u001b[1;32m   2149\u001b[0m      cbook\u001b[38;5;241m.\u001b[39m_setattr_cm(\u001b[38;5;28mself\u001b[39m\u001b[38;5;241m.\u001b[39mfigure\u001b[38;5;241m.\u001b[39mcanvas, _device_pixel_ratio\u001b[38;5;241m=\u001b[39m\u001b[38;5;241m1\u001b[39m), \\\n",
      "\u001b[1;32m   2150\u001b[0m      cbook\u001b[38;5;241m.\u001b[39m_setattr_cm(\u001b[38;5;28mself\u001b[39m\u001b[38;5;241m.\u001b[39mfigure\u001b[38;5;241m.\u001b[39mcanvas, _is_saving\u001b[38;5;241m=\u001b[39m\u001b[38;5;28;01mTrue\u001b[39;00m), \\\n",
      "\u001b[1;32m   2151\u001b[0m      ExitStack() \u001b[38;5;28;01mas\u001b[39;00m stack:\n",
      "\u001b[1;32m   2153\u001b[0m     \u001b[38;5;28;01mfor\u001b[39;00m prop \u001b[38;5;129;01min\u001b[39;00m [\u001b[38;5;124m\"\u001b[39m\u001b[38;5;124mfacecolor\u001b[39m\u001b[38;5;124m\"\u001b[39m, \u001b[38;5;124m\"\u001b[39m\u001b[38;5;124medgecolor\u001b[39m\u001b[38;5;124m\"\u001b[39m]:\n",
      "\u001b[1;32m   2154\u001b[0m         color \u001b[38;5;241m=\u001b[39m \u001b[38;5;28mlocals\u001b[39m()[prop]\n",
      "File \u001b[0;32m/var/containers/Bundle/Application/F72A0AC7-C0F7-42FE-9A0D-15E0B6ECA867/PythonistaLab.app/Frameworks/Py3Kit.framework/pylib/contextlib.py:142\u001b[0m, in \u001b[0;36m_GeneratorContextManager.__enter__\u001b[0;34m(self)\u001b[0m\n",
      "\u001b[1;32m    140\u001b[0m \u001b[38;5;28;01mdel\u001b[39;00m \u001b[38;5;28mself\u001b[39m\u001b[38;5;241m.\u001b[39margs, \u001b[38;5;28mself\u001b[39m\u001b[38;5;241m.\u001b[39mkwds, \u001b[38;5;28mself\u001b[39m\u001b[38;5;241m.\u001b[39mfunc\n",
      "\u001b[1;32m    141\u001b[0m \u001b[38;5;28;01mtry\u001b[39;00m:\n",
      "\u001b[0;32m--> 142\u001b[0m     \u001b[38;5;28;01mreturn\u001b[39;00m \u001b[38;5;28mnext\u001b[39m(\u001b[38;5;28mself\u001b[39m\u001b[38;5;241m.\u001b[39mgen)\n",
      "\u001b[1;32m    143\u001b[0m \u001b[38;5;28;01mexcept\u001b[39;00m \u001b[38;5;167;01mStopIteration\u001b[39;00m:\n",
      "\u001b[1;32m    144\u001b[0m     \u001b[38;5;28;01mraise\u001b[39;00m \u001b[38;5;167;01mRuntimeError\u001b[39;00m(\u001b[38;5;124m\"\u001b[39m\u001b[38;5;124mgenerator didn\u001b[39m\u001b[38;5;124m'\u001b[39m\u001b[38;5;124mt yield\u001b[39m\u001b[38;5;124m\"\u001b[39m) \u001b[38;5;28;01mfrom\u001b[39;00m \u001b[38;5;28;01mNone\u001b[39;00m\n",
      "File \u001b[0;32m/var/containers/Bundle/Application/F72A0AC7-C0F7-42FE-9A0D-15E0B6ECA867/PythonistaLab.app/Frameworks/Py3Kit.framework/pylib/site-packages/matplotlib/backend_bases.py:2039\u001b[0m, in \u001b[0;36mFigureCanvasBase._switch_canvas_and_return_print_method\u001b[0;34m(self, fmt, backend)\u001b[0m\n",
      "\u001b[1;32m   2036\u001b[0m     canvas \u001b[38;5;241m=\u001b[39m \u001b[38;5;28mself\u001b[39m\n",
      "\u001b[1;32m   2037\u001b[0m \u001b[38;5;28;01melse\u001b[39;00m:\n",
      "\u001b[1;32m   2038\u001b[0m     \u001b[38;5;66;03m# Return a default canvas for the requested format, if it exists.\u001b[39;00m\n",
      "\u001b[0;32m-> 2039\u001b[0m     canvas_class \u001b[38;5;241m=\u001b[39m get_registered_canvas_class(fmt)\n",
      "\u001b[1;32m   2040\u001b[0m     \u001b[38;5;28;01mif\u001b[39;00m canvas_class \u001b[38;5;129;01mis\u001b[39;00m \u001b[38;5;28;01mNone\u001b[39;00m:\n",
      "\u001b[1;32m   2041\u001b[0m         \u001b[38;5;28;01mraise\u001b[39;00m \u001b[38;5;167;01mValueError\u001b[39;00m(\n",
      "\u001b[1;32m   2042\u001b[0m             \u001b[38;5;124m\"\u001b[39m\u001b[38;5;124mFormat \u001b[39m\u001b[38;5;132;01m{!r}\u001b[39;00m\u001b[38;5;124m is not supported (supported formats: \u001b[39m\u001b[38;5;132;01m{}\u001b[39;00m\u001b[38;5;124m)\u001b[39m\u001b[38;5;124m\"\u001b[39m\u001b[38;5;241m.\u001b[39mformat(\n",
      "\u001b[1;32m   2043\u001b[0m                 fmt, \u001b[38;5;124m\"\u001b[39m\u001b[38;5;124m, \u001b[39m\u001b[38;5;124m\"\u001b[39m\u001b[38;5;241m.\u001b[39mjoin(\u001b[38;5;28msorted\u001b[39m(\u001b[38;5;28mself\u001b[39m\u001b[38;5;241m.\u001b[39mget_supported_filetypes()))))\n",
      "File \u001b[0;32m/var/containers/Bundle/Application/F72A0AC7-C0F7-42FE-9A0D-15E0B6ECA867/PythonistaLab.app/Frameworks/Py3Kit.framework/pylib/site-packages/matplotlib/backend_bases.py:126\u001b[0m, in \u001b[0;36mget_registered_canvas_class\u001b[0;34m(format)\u001b[0m\n",
      "\u001b[1;32m    124\u001b[0m backend_class \u001b[38;5;241m=\u001b[39m _default_backends[\u001b[38;5;28mformat\u001b[39m]\n",
      "\u001b[1;32m    125\u001b[0m \u001b[38;5;28;01mif\u001b[39;00m \u001b[38;5;28misinstance\u001b[39m(backend_class, \u001b[38;5;28mstr\u001b[39m):\n",
      "\u001b[0;32m--> 126\u001b[0m     backend_class \u001b[38;5;241m=\u001b[39m importlib\u001b[38;5;241m.\u001b[39mimport_module(backend_class)\u001b[38;5;241m.\u001b[39mFigureCanvas\n",
      "\u001b[1;32m    127\u001b[0m     _default_backends[\u001b[38;5;28mformat\u001b[39m] \u001b[38;5;241m=\u001b[39m backend_class\n",
      "\u001b[1;32m    128\u001b[0m \u001b[38;5;28;01mreturn\u001b[39;00m backend_class\n",
      "File \u001b[0;32m/var/containers/Bundle/Application/F72A0AC7-C0F7-42FE-9A0D-15E0B6ECA867/PythonistaLab.app/Frameworks/Py3Kit.framework/pylib/importlib/__init__.py:89\u001b[0m, in \u001b[0;36mimport_module\u001b[0;34m(name, package)\u001b[0m\n",
      "\u001b[1;32m     87\u001b[0m             \u001b[38;5;28;01mbreak\u001b[39;00m\n",
      "\u001b[1;32m     88\u001b[0m         level \u001b[38;5;241m+\u001b[39m\u001b[38;5;241m=\u001b[39m \u001b[38;5;241m1\u001b[39m\n",
      "\u001b[0;32m---> 89\u001b[0m \u001b[38;5;28;01mreturn\u001b[39;00m _bootstrap\u001b[38;5;241m.\u001b[39m_gcd_import(name[level:], package, level)\n",
      "File \u001b[0;32m<frozen importlib._bootstrap>:1387\u001b[0m, in \u001b[0;36m_gcd_import\u001b[0;34m(name, package, level)\u001b[0m\n",
      "File \u001b[0;32m<frozen importlib._bootstrap>:1360\u001b[0m, in \u001b[0;36m_find_and_load\u001b[0;34m(name, import_)\u001b[0m\n",
      "File \u001b[0;32m<frozen importlib._bootstrap>:1331\u001b[0m, in \u001b[0;36m_find_and_load_unlocked\u001b[0;34m(name, import_)\u001b[0m\n",
      "File \u001b[0;32m<frozen importlib._bootstrap>:935\u001b[0m, in \u001b[0;36m_load_unlocked\u001b[0;34m(spec)\u001b[0m\n",
      "File \u001b[0;32m<frozen importlib._bootstrap_external>:1022\u001b[0m, in \u001b[0;36mexec_module\u001b[0;34m(self, module)\u001b[0m\n",
      "File \u001b[0;32m<frozen importlib._bootstrap>:488\u001b[0m, in \u001b[0;36m_call_with_frames_removed\u001b[0;34m(f, *args, **kwds)\u001b[0m\n",
      "File \u001b[0;32m/var/containers/Bundle/Application/F72A0AC7-C0F7-42FE-9A0D-15E0B6ECA867/PythonistaLab.app/Frameworks/Py3Kit.framework/pylib/site-packages/matplotlib/backends/backend_pdf.py:45\u001b[0m\n",
      "\u001b[1;32m     43\u001b[0m \u001b[38;5;28;01mfrom\u001b[39;00m \u001b[38;5;21;01mmatplotlib\u001b[39;00m\u001b[38;5;21;01m.\u001b[39;00m\u001b[38;5;21;01mdates\u001b[39;00m \u001b[38;5;28;01mimport\u001b[39;00m UTC\n",
      "\u001b[1;32m     44\u001b[0m \u001b[38;5;28;01mfrom\u001b[39;00m \u001b[38;5;21;01mmatplotlib\u001b[39;00m \u001b[38;5;28;01mimport\u001b[39;00m _path\n",
      "\u001b[0;32m---> 45\u001b[0m \u001b[38;5;28;01mfrom\u001b[39;00m \u001b[38;5;21;01m.\u001b[39;00m \u001b[38;5;28;01mimport\u001b[39;00m _backend_pdf_ps\n",
      "\u001b[1;32m     47\u001b[0m _log \u001b[38;5;241m=\u001b[39m logging\u001b[38;5;241m.\u001b[39mgetLogger(\u001b[38;5;18m__name__\u001b[39m)\n",
      "\u001b[1;32m     49\u001b[0m \u001b[38;5;66;03m# Overview\u001b[39;00m\n",
      "\u001b[1;32m     50\u001b[0m \u001b[38;5;66;03m#\u001b[39;00m\n",
      "\u001b[1;32m     51\u001b[0m \u001b[38;5;66;03m# The low-level knowledge about pdf syntax lies mainly in the pdfRepr\u001b[39;00m\n",
      "\u001b[0;32m   (...)\u001b[0m\n",
      "\u001b[1;32m     93\u001b[0m \u001b[38;5;66;03m#   is serif/sans-serif, or symbolic/non-symbolic?\u001b[39;00m\n",
      "\u001b[1;32m     94\u001b[0m \u001b[38;5;66;03m# * draw_quad_mesh\u001b[39;00m\n",
      "File \u001b[0;32m/var/containers/Bundle/Application/F72A0AC7-C0F7-42FE-9A0D-15E0B6ECA867/PythonistaLab.app/Frameworks/Py3Kit.framework/pylib/site-packages/matplotlib/backends/_backend_pdf_ps.py:9\u001b[0m\n",
      "\u001b[1;32m      6\u001b[0m \u001b[38;5;28;01mfrom\u001b[39;00m \u001b[38;5;21;01mio\u001b[39;00m \u001b[38;5;28;01mimport\u001b[39;00m BytesIO\n",
      "\u001b[1;32m      7\u001b[0m \u001b[38;5;28;01mimport\u001b[39;00m \u001b[38;5;21;01mfunctools\u001b[39;00m\n",
      "\u001b[0;32m----> 9\u001b[0m \u001b[38;5;28;01mfrom\u001b[39;00m \u001b[38;5;21;01mfontTools\u001b[39;00m \u001b[38;5;28;01mimport\u001b[39;00m subset\n",
      "\u001b[1;32m     11\u001b[0m \u001b[38;5;28;01mimport\u001b[39;00m \u001b[38;5;21;01mmatplotlib\u001b[39;00m \u001b[38;5;28;01mas\u001b[39;00m \u001b[38;5;21;01mmpl\u001b[39;00m\n",
      "\u001b[1;32m     12\u001b[0m \u001b[38;5;28;01mfrom\u001b[39;00m \u001b[38;5;21;01m.\u001b[39;00m\u001b[38;5;21;01m.\u001b[39;00m \u001b[38;5;28;01mimport\u001b[39;00m font_manager, ft2font\n",
      "\u001b[0;31mModuleNotFoundError\u001b[0m: No module named 'fontTools'"
     ]
    },
    {
     "data": {
      "image/png": "[encoded data removed]",
      "text/plain": [
       "<Figure size 1100x850 with 1 Axes>"
      ]
     },
     "output_type": "display_data"
    }
   ],
   "source": [
    "#dodecahedron pattern \n",
    "from math import tan,sin\n",
    "import numpy as np\n",
    "from matplotlib import pyplot as plt\n",
    "from cmath import pi,acos,exp,sqrt\n",
    "\n",
    "def plotArc(ax,P0,n0,l,da,*args,tol=0.001,**kwargs):\n",
    "  if l==0:\n",
    "    return\n",
    "  x=np.linspace(0,l,max(2,int(abs(6*(da/(2*pi)))),int(l//(2*abs(2*l/da*tol)**0.5)+1))if (da!=0) and (l!=0) else 2)\n",
    "  phi2=x/l*da/2\n",
    "  p=P0+x*np.sinc(phi2/pi)*n0*np.exp(1j*phi2)\n",
    "  ax.plot(p.real,p.imag,*args,**kwargs)\n",
    "    \n",
    "def plotArcchain(ax,P0,n0,arcs,*args,**kwargs):\n",
    "    p=P0\n",
    "    n=n0\n",
    "    for l,da in arcs:\n",
    "        plotArc(ax,p,n,l,da,*args,**kwargs)\n",
    "        p+=l*np.sinc(da/(2*pi))*n*exp(1j*da/2)\n",
    "        n*=exp(1j*da)\n",
    "\n",
    "deg=pi/180.0\n",
    "\n",
    "pentagon=([(1.0,0),(0,72*deg)]*2+[(1,0),(0,-36*deg)]*2+[(1.0,0),(0,72*deg)])\n",
    "scoreline=[(0.0,-108*deg)]+((pentagon*5)[2:-1]+[(0.0,-36*deg)] +(pentagon*5)[2:])+[(1.0,0),(0.0,180*deg),(1.5,0)]\n",
    "\n",
    "fs=0.5#flap start\n",
    "fsa=80*deg#start angle\n",
    "fsb=20*deg#flap start edge curvature 80deg+20deg=100deg at root -> 'snap'-fit\n",
    "fe=0.95#flap end\n",
    "fea=30*deg#end angle\n",
    "fw=0.16#flap width\n",
    "flap=[(fs,0),(0.,-fsa-fsb),(fw/sin(fsa)*(fsb/sin(fsb) if fsb!=0.0 else 1.0),2*fsb),(0.0,fsa-fsb),\n",
    "       (fe-fs-fw*(1/tan(fsa)+1/tan(fea)),0),(0,fea),(fw/sin(fea),0),(0,-fea),(1.0-fe,0)]\n",
    "flapped_pentagon=[*flap,(0,72*deg)]*2+[*flap,(0,-144*deg)]+[*flap,(0.0,72*deg)]\n",
    "cutline=[(0.0,-108*deg)]+(flapped_pentagon*5)[len(flap)+1:-1]+[(0.0,-36*deg)]+(flapped_pentagon*5)[len(flap)+1:-1]+[(0,-108*deg),(0.25,0)]\n",
    "\n",
    "\n",
    "from matplotlib import pyplot as plt \n",
    "plt.close()\n",
    "#DIN_A=4\n",
    "#plt.figure(figsize=(1000*2**(-DIN_A/2+1/4)/25.4,1000*2**(-DIN_A/2-1/4)/25.4))\n",
    "plt.figure(figsize=(11,8.5))\n",
    "plotArcchain(plt.gca(),0.0 + 0.0j, 0.0 +1.0j,scoreline,'k:',)\n",
    "plotArcchain(plt.gca(),0.0 + 0.0j, 0.0 +1.0j,cutline,'k-')\n",
    "plt.plot(0,0,'k-',label='cut')\n",
    "plt.plot(0,0,'k:',label='fold up')\n",
    "plt.gca().set_aspect('equal')\n",
    "xlim=plt.gca().get_xlim()\n",
    "ylim=plt.gca().get_ylim()\n",
    "plt.legend()\n",
    "plt.gca().set_axis_off()\n",
    "plt.savefig('dodecahedron.pdf')\n",
    "plt.show()\n",
    "(xlim[1]-xlim[0])/(ylim[1]-ylim[0])"
   ]
  },
  {
   "cell_type": "markdown",
   "metadata": {
    "collapsed": false,
    "jupyter": {
     "outputs_hidden": false,
     "source_hidden": false
    },
    "pythonista": {
     "disabled": false
    }
   },
   "source": [
    "| Implementation | Test Result |\n",
    "|:---|:---|\n",
    "| Pythonista Lab v1.0b7 | ModuleNotFoundError: No module named 'fontTools', (no pdf file, but plot in notebook O.K.) |\n",
    "| Carnets SCI (nb+Lab+classic) | Notebooks/dodecahedron.pdf (10kB) |\n",
    "| MyBinder (nb+lab)| /dodecahedron.pdf (9.75kB) |\n",
    "| Google Colab | content/dodekahedron.pdf (9.75kB)  |"
   ]
  },
  {
   "cell_type": "markdown",
   "metadata": {
    "collapsed": false,
    "jupyter": {
     "outputs_hidden": false,
     "source_hidden": false
    },
    "pythonista": {
     "disabled": false
    }
   },
   "source": [
    "# Appendix"
   ]
  },
  {
   "cell_type": "markdown",
   "metadata": {
    "collapsed": false,
    "jupyter": {
     "outputs_hidden": false,
     "source_hidden": false
    },
    "pythonista": {
     "disabled": false
    }
   },
   "source": [
    "## Expanded console hook function"
   ]
  },
  {
   "cell_type": "code",
   "execution_count": null,
   "metadata": {
    "collapsed": false,
    "jupyter": {
     "outputs_hidden": false,
     "source_hidden": true
    },
    "pythonista": {
     "disabled": false
    }
   },
   "outputs": [],
   "source": [
    "%%js\n",
    "try {\n",
    "    // Store original system console methods\n",
    "    console._o = console._o || {\n",
    "        log: console.log,\n",
    "        error: console.error,\n",
    "        warn: console.warn,\n",
    "        info: console.info\n",
    "    };\n",
    "\n",
    "    [['log'], ['error', 'red'], ['warn'], ['info']].forEach(([method, color = \"black\"]) => {\n",
    "        // Reset to system console to clear prior hooks\n",
    "        console[method] = console._o[method];\n",
    "\n",
    "        // Create or reuse console-output div\n",
    "        let consoleOutput = element.consoleOutput;\n",
    "        if (!consoleOutput) {\n",
    "            consoleOutput = document.createElement(\"div\");\n",
    "            consoleOutput.id = \"console-output\";\n",
    "            consoleOutput.style.cssText = \"white-space: pre-wrap; font-family: monospace; padding: 0px; background: #f0f0f0; line-height: 1.1;\";\n",
    "            element.appendChild(consoleOutput);\n",
    "            element.consoleOutput = consoleOutput;\n",
    "        }\n",
    "\n",
    "        // Find native console by traversing chain\n",
    "        let original = console[method], native = original;\n",
    "        while (native && native.toString().indexOf(\"[native code]\") < 0) {\n",
    "            native = native.apply ? function(...args) { return native.apply(this, args); } : null;\n",
    "        }\n",
    "\n",
    "        // Define new hook\n",
    "        original = function(...args) {\n",
    "            (native || console._o[method]).apply(console, args); // Forward to native or original\n",
    "            let message = args.map(arg => {\n",
    "                return typeof arg === 'object' ? JSON.stringify(arg, null, 2) : arg;\n",
    "            }).join(' ');\n",
    "            const messageDiv = document.createElement(\"div\");\n",
    "            messageDiv.innerHTML = `[${method.toUpperCase()}] ${message}`;\n",
    "            messageDiv.style.cssText = `margin: 0; line-height: 1.1; padding: 0px 0; color: ${color};`;\n",
    "            consoleOutput.appendChild(messageDiv);\n",
    "        };\n",
    "        console[method] = original;\n",
    "    });\n",
    "\n",
    "    // Cell-specific code\n",
    "    console.log(\"Test message 1\");\n",
    "    console.log({ key: \"value\" });\n",
    "    console.error(\"Test error\");\n",
    "    console.warn(\"Test warning\");\n",
    "    console.info(\"Test info\");\n",
    "} catch (e) {\n",
    "    console.error(\"Error:\", e);\n",
    "} finally {\n",
    "    // Restore system console\n",
    "    [['log'], ['error', 'red'], ['warn'], ['info']].forEach(([method]) => {\n",
    "        if (console._o && console._o[method]) {\n",
    "            console[method] = console._o[method];\n",
    "        }\n",
    "    });\n",
    "}"
   ]
  },
  {
   "cell_type": "code",
   "execution_count": null,
   "metadata": {},
   "outputs": [],
   "source": []
  }
 ],
 "metadata": {
  "kernelspec": {
   "display_name": "Python 3 (ipykernel)",
   "language": "python",
   "name": "python3"
  },
  "language_info": {
   "codemirror_mode": {
    "name": "ipython",
    "version": 3
   },
   "file_extension": ".py",
   "mimetype": "text/x-python",
   "name": "python",
   "nbconvert_exporter": "python",
   "pygments_lexer": "ipython3",
   "version": "3.11.0"
  }
 },
 "nbformat": 4,
 "nbformat_minor": 4
}
