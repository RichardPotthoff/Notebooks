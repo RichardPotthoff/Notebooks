{
 "cells": [
  {
   "cell_type": "markdown",
   "metadata": {
    "collapsed": false,
    "jupyter": {
     "outputs_hidden": false,
     "source_hidden": false
    },
    "pythonista": {
     "disabled": false
    }
   },
   "source": [
    "[![Run Jupyter Notebooks](https://mybinder.org/badge_logo.svg)](https://mybinder.org/v2/gh/RichardPotthoff/Notebooks/main?filepath=beta_testing.ipynb)   <- click here to open this file in MyBinder\n",
    "   \n",
    "[![Open In Colab](https://colab.research.google.com/assets/colab-badge.svg)](https://colab.research.google.com/github/RichardPotthoff/Notebooks/blob/main/beta_testing.ipynb)   <- click here to open this file in Google Colab"
   ]
  },
  {
   "cell_type": "markdown",
   "metadata": {
    "collapsed": false,
    "jupyter": {
     "outputs_hidden": false,
     "source_hidden": false
    },
    "pythonista": {
     "disabled": false
    }
   },
   "source": [
    "# Tests"
   ]
  },
  {
   "cell_type": "markdown",
   "metadata": {
    "collapsed": false,
    "jupyter": {
     "outputs_hidden": false,
     "source_hidden": false
    },
    "pythonista": {
     "disabled": false
    }
   },
   "source": [
    "## Tests for global \"window\" instance"
   ]
  },
  {
   "cell_type": "code",
   "execution_count": null,
   "metadata": {
    "collapsed": false,
    "jupyter": {
     "outputs_hidden": false,
     "source_hidden": false
    },
    "pythonista": {
     "disabled": false
    }
   },
   "outputs": [],
   "source": [
    "%%js\n",
    "//alert(document.body)\n",
    "window.test={result:true}\n",
    "//alert(\"test.result= \"+test.result)"
   ]
  },
  {
   "cell_type": "code",
   "execution_count": null,
   "metadata": {
    "collapsed": false,
    "jupyter": {
     "outputs_hidden": false,
     "source_hidden": false
    },
    "pythonista": {
     "disabled": false
    }
   },
   "outputs": [],
   "source": [
    "%%js\n",
    "alert(\"test.result= \"+test.result)"
   ]
  },
  {
   "cell_type": "markdown",
   "metadata": {
    "collapsed": false,
    "jupyter": {
     "outputs_hidden": false,
     "source_hidden": false
    },
    "pythonista": {
     "disabled": false
    }
   },
   "source": [
    "| Implementation | Test Result |\n",
    "|---|---|\n",
    "| Pythonista Lab v1.0 b7 | **Alert** test.result= true |\n",
    "| Carnets SCI (nb+lab+classic) | **Alert** test.result= true |\n",
    "| MyBinder (nb+lab) | **Alert** test.result= true |"
   ]
  },
  {
   "cell_type": "markdown",
   "metadata": {
    "collapsed": false,
    "jupyter": {
     "outputs_hidden": false,
     "source_hidden": false
    },
    "pythonista": {
     "disabled": false
    }
   },
   "source": [
    "## Test for \"IPython\", \"Jupyter\" in JavaScript"
   ]
  },
  {
   "cell_type": "code",
   "execution_count": null,
   "metadata": {
    "collapsed": false,
    "jupyter": {
     "outputs_hidden": false,
     "source_hidden": false
    },
    "pythonista": {
     "disabled": false
    }
   },
   "outputs": [],
   "source": [
    "%%js\n",
    "alert(IPython)"
   ]
  },
  {
   "cell_type": "markdown",
   "metadata": {
    "collapsed": false,
    "jupyter": {
     "outputs_hidden": false,
     "source_hidden": false
    },
    "pythonista": {
     "disabled": false
    }
   },
   "source": [
    "| Implementation | Test Result |\n",
    "|:---|:---|\n",
    "| Pythonista Lab v1.0 b7 | *no output* |\n",
    "| Carnets SCI (nb+lab) | Javascript Error: Can't find variable: IPython |\n",
    "| Carnets SCI classic | [object Object] |\n",
    "| MyBinder | Javascript Error: Can't find variable: IPython |"
   ]
  },
  {
   "cell_type": "code",
   "execution_count": null,
   "metadata": {
    "collapsed": false,
    "jupyter": {
     "outputs_hidden": false,
     "source_hidden": false
    },
    "pythonista": {
     "disabled": false
    }
   },
   "outputs": [],
   "source": [
    "%%js\n",
    "alert(Jupyter)"
   ]
  },
  {
   "cell_type": "markdown",
   "metadata": {
    "collapsed": false,
    "jupyter": {
     "outputs_hidden": false,
     "source_hidden": false
    },
    "pythonista": {
     "disabled": false
    }
   },
   "source": [
    "| Implementation | Test Result |\n",
    "|:---|:---|\n",
    "| Pythonista Lab v1.0 b7 | *no output* |\n",
    "| Carnets SCI (nb+Lab) | Javascript Error: Can't find variable: Jupyter |\n",
    "| Carnets SCI classic | [object Object] |\n",
    "| MyBinder (nb+lab)| Javascript Error: Can't find variable: Jupyter |"
   ]
  },
  {
   "cell_type": "markdown",
   "metadata": {
    "collapsed": false,
    "jupyter": {
     "outputs_hidden": false,
     "source_hidden": false
    },
    "pythonista": {
     "disabled": false
    }
   },
   "source": [
    "## Test for \"element\" in Javascript"
   ]
  },
  {
   "cell_type": "code",
   "execution_count": null,
   "metadata": {
    "collapsed": false,
    "jupyter": {
     "outputs_hidden": false,
     "source_hidden": false
    },
    "pythonista": {
     "disabled": false
    }
   },
   "outputs": [],
   "source": [
    "%%js\n",
    "alert(element)"
   ]
  },
  {
   "cell_type": "markdown",
   "metadata": {
    "collapsed": false,
    "jupyter": {
     "outputs_hidden": false,
     "source_hidden": false
    },
    "pythonista": {
     "disabled": false,
     "parentCellID": "0d2eab05-5274-4f15-89dd-3a55e1fae3f6"
    }
   },
   "source": [
    "| Implementation | Test Result |\n",
    "|:---|:---|\n",
    "| Pythonista Lab v1.0 b7 | *no output* |\n",
    "| Carnets SCI (nb+Lab) | [object HTMLDivElement] |\n",
    "| Carnets SCI classic | [object Object] |\n",
    "| MyBinder (nb+lab)| [object HTMLDivElement] |"
   ]
  },
  {
   "cell_type": "markdown",
   "metadata": {
    "collapsed": false,
    "jupyter": {
     "outputs_hidden": false,
     "source_hidden": false
    },
    "pythonista": {
     "disabled": false
    }
   },
   "source": [
    "## Console output tests"
   ]
  },
  {
   "cell_type": "code",
   "execution_count": null,
   "metadata": {
    "collapsed": false,
    "jupyter": {
     "outputs_hidden": false,
     "source_hidden": false
    },
    "pythonista": {
     "disabled": false
    }
   },
   "outputs": [],
   "source": [
    "%%js\n",
    "console.log(\"My custom message\");"
   ]
  },
  {
   "cell_type": "markdown",
   "metadata": {
    "collapsed": false,
    "jupyter": {
     "outputs_hidden": false,
     "source_hidden": false
    },
    "pythonista": {
     "disabled": false,
     "parentCellID": "0d2eab05-5274-4f15-89dd-3a55e1fae3f6"
    }
   },
   "source": [
    "| Implementation | Test Result |\n",
    "|:---|:---|\n",
    "| Pythonista Lab v1.0 b7 | *no output* |\n",
    "| Carnets SCI (nb+Lab) | *no output* |\n",
    "| Carnets SCI classic | *no output* |\n",
    "| MyBinder (nb+lab)| *no output* |"
   ]
  },
  {
   "cell_type": "markdown",
   "metadata": {
    "collapsed": false,
    "jupyter": {
     "outputs_hidden": false,
     "source_hidden": false
    },
    "pythonista": {
     "disabled": false,
     "parentCellID": "4b09b153-9fd5-4c1a-999e-7f8e5eca672b"
    }
   },
   "source": [
    "## Console hook tests"
   ]
  },
  {
   "cell_type": "code",
   "execution_count": null,
   "metadata": {
    "collapsed": false,
    "jupyter": {
     "outputs_hidden": false,
     "source_hidden": false
    },
    "pythonista": {
     "disabled": false
    }
   },
   "outputs": [],
   "source": [
    "%%js\n",
    "try{console._o=console._o||{log:console.log,error:console.error,warn:console.warn,info:console.info};[['log'],['error','red'],['warn'],['info']].forEach(([t,c=\"black\"])=>{console[t]=console._o[t];let d=element.consoleOutput;if(!d){d=document.createElement(\"div\");d.id=\"console-output\";d.style.cssText=\"white-space:pre-wrap;font-family:monospace;padding:0px;background:#f0f0f0;line-height:1.1;\";element.appendChild(d);element.consoleOutput=d;}let o=console[t],n=o;while(n&&n.toString().indexOf(\"[native code]\")<0)n=n.apply?function(...a){return n.apply(this,a);}:null;o=function(...a){(n||console._o[t]).apply(console,a);let s=a.map(e=>typeof e==='object'?JSON.stringify(e,null,2):e).join(' ');const m=document.createElement(\"div\");m.innerHTML=`[${t.toUpperCase()}] ${s}`;m.style.cssText=`margin:0;line-height:1.1;padding:0px 0;color:${c};`;d.appendChild(m);};console[t]=o;});\n",
    "\n",
    "console.log(\"My custom message\");\n",
    "\n",
    "}catch(e){console.error(\"Error:\",e);}finally{[['log'],['error','red'],['warn'],['info']].forEach(([t])=>console._o&&console._o[t]&&(console[t]=console._o[t]));}"
   ]
  },
  {
   "cell_type": "markdown",
   "metadata": {
    "collapsed": false,
    "jupyter": {
     "outputs_hidden": false,
     "source_hidden": false
    },
    "pythonista": {
     "disabled": false
    }
   },
   "source": [
    "| Implementation | Test Result |\n",
    "|:---|:---|\n",
    "| Pythonista Lab v1.0 b7 | *no output* |\n",
    "| Carnets SCI (nb+Lab) | [LOG] My custom message |\n",
    "| Carnets SCI classic | *no output* |\n",
    "| MyBinder (nb+lab)| [LOG] My custom message |"
   ]
  },
  {
   "cell_type": "code",
   "execution_count": null,
   "metadata": {
    "collapsed": false,
    "jupyter": {
     "outputs_hidden": false,
     "source_hidden": false
    },
    "pythonista": {
     "disabled": false
    }
   },
   "outputs": [],
   "source": []
  },
  {
   "cell_type": "markdown",
   "metadata": {
    "collapsed": false,
    "jupyter": {
     "outputs_hidden": false,
     "source_hidden": false
    },
    "pythonista": {
     "disabled": false
    }
   },
   "source": [
    "# Appendix"
   ]
  },
  {
   "cell_type": "markdown",
   "metadata": {
    "collapsed": false,
    "jupyter": {
     "outputs_hidden": false,
     "source_hidden": false
    },
    "pythonista": {
     "disabled": false
    }
   },
   "source": [
    "## Expanded console hook function"
   ]
  },
  {
   "cell_type": "code",
   "execution_count": null,
   "metadata": {
    "collapsed": false,
    "jupyter": {
     "outputs_hidden": false,
     "source_hidden": false
    },
    "pythonista": {
     "disabled": false
    }
   },
   "outputs": [],
   "source": [
    "%%js\n",
    "try {\n",
    "    // Store original system console methods\n",
    "    console._o = console._o || {\n",
    "        log: console.log,\n",
    "        error: console.error,\n",
    "        warn: console.warn,\n",
    "        info: console.info\n",
    "    };\n",
    "\n",
    "    [['log'], ['error', 'red'], ['warn'], ['info']].forEach(([method, color = \"black\"]) => {\n",
    "        // Reset to system console to clear prior hooks\n",
    "        console[method] = console._o[method];\n",
    "\n",
    "        // Create or reuse console-output div\n",
    "        let consoleOutput = element.consoleOutput;\n",
    "        if (!consoleOutput) {\n",
    "            consoleOutput = document.createElement(\"div\");\n",
    "            consoleOutput.id = \"console-output\";\n",
    "            consoleOutput.style.cssText = \"white-space: pre-wrap; font-family: monospace; padding: 0px; background: #f0f0f0; line-height: 1.1;\";\n",
    "            element.appendChild(consoleOutput);\n",
    "            element.consoleOutput = consoleOutput;\n",
    "        }\n",
    "\n",
    "        // Find native console by traversing chain\n",
    "        let original = console[method], native = original;\n",
    "        while (native && native.toString().indexOf(\"[native code]\") < 0) {\n",
    "            native = native.apply ? function(...args) { return native.apply(this, args); } : null;\n",
    "        }\n",
    "\n",
    "        // Define new hook\n",
    "        original = function(...args) {\n",
    "            (native || console._o[method]).apply(console, args); // Forward to native or original\n",
    "            let message = args.map(arg => {\n",
    "                return typeof arg === 'object' ? JSON.stringify(arg, null, 2) : arg;\n",
    "            }).join(' ');\n",
    "            const messageDiv = document.createElement(\"div\");\n",
    "            messageDiv.innerHTML = `[${method.toUpperCase()}] ${message}`;\n",
    "            messageDiv.style.cssText = `margin: 0; line-height: 1.1; padding: 0px 0; color: ${color};`;\n",
    "            consoleOutput.appendChild(messageDiv);\n",
    "        };\n",
    "        console[method] = original;\n",
    "    });\n",
    "\n",
    "    // Cell-specific code\n",
    "    console.log(\"Test message 1\");\n",
    "    console.log({ key: \"value\" });\n",
    "    console.error(\"Test error\");\n",
    "    console.warn(\"Test warning\");\n",
    "    console.info(\"Test info\");\n",
    "} catch (e) {\n",
    "    console.error(\"Error:\", e);\n",
    "} finally {\n",
    "    // Restore system console\n",
    "    [['log'], ['error', 'red'], ['warn'], ['info']].forEach(([method]) => {\n",
    "        if (console._o && console._o[method]) {\n",
    "            console[method] = console._o[method];\n",
    "        }\n",
    "    });\n",
    "}"
   ]
  }
 ],
 "metadata": {
  "kernelspec": {
   "display_name": "Python 3 (ipykernel)",
   "language": "python",
   "name": "python3"
  },
  "language_info": {
   "codemirror_mode": {
    "name": "ipython",
    "version": 3
   },
   "file_extension": ".py",
   "mimetype": "text/x-python",
   "name": "python",
   "nbconvert_exporter": "python",
   "pygments_lexer": "ipython3",
   "version": "3.11.0"
  }
 },
 "nbformat": 4,
 "nbformat_minor": 4
}
