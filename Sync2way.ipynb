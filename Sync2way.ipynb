{
 "cells": [
  {
   "cell_type": "markdown",
   "id": "ba918f19-66c2-436a-a7eb-b350ca5251ba",
   "metadata": {},
   "source": [
    "[![Run Jupyter Notebooks](https://mybinder.org/badge_logo.svg)](https://mybinder.org/v2/gh/RichardPotthoff/Notebooks/main?filepath=Sync2way.ipynb)   <- click here to open this file in MyBinder\n",
    "    \n",
    "[![Open In Colab](https://colab.research.google.com/assets/colab-badge.svg)](https://colab.research.google.com/github/RichardPotthoff/Notebooks/blob/main/Sync2way.ipynb)   <- click here to open this file in Google Colab"
   ]
  },
  {
   "cell_type": "code",
   "execution_count": 1,
   "id": "b6516dd9-3985-4b06-a0fc-a7e5d69664b8",
   "metadata": {},
   "outputs": [],
   "source": [
    "def capture_console(code):\n",
    "    return (\n",
    "\"\"\"\n",
    "try{console._o=console._o||{log:console.log,error:console.error,warn:console.warn,info:console.info};[['log'],['error','red'],['warn'],['info']].forEach(([t,c=\"black\"])=>{console[t]=console._o[t];let d=element.consoleOutput;if(!d){d=document.createElement(\"div\");d.id=\"console-output\";d.style.cssText=\"white-space:pre-wrap;font-family:monospace;padding:0px;background:#f0f0f0;line-height:1.1;\";element.appendChild(d);element.consoleOutput=d;}let o=console[t],n=o;while(n&&n.toString().indexOf(\"[native code]\")<0)n=n.apply?function(...a){return n.apply(this,a);}:null;o=function(...a){(n||console._o[t]).apply(console,a);let s=a.map(e=>typeof e==='object'?JSON.stringify(e,null,2):e).join(' ');const m=document.createElement(\"div\");m.innerText=`[${t.toUpperCase()}] ${s}`;m.style.cssText=`margin:0;line-height:1.1;padding:0px 0;color:${c};`;d.appendChild(m);};console[t]=o;});\n",
    "\"\"\"  +\n",
    "code + \n",
    "\"\"\"\n",
    "}catch(e){console.error(\"Error:\",e);}finally{[['log'],['error','red'],['warn'],['info']].forEach(([t])=>console._o&&console._o[t]&&(console[t]=console._o[t]));}\n",
    "\"\"\"\n",
    ")"
   ]
  },
  {
   "cell_type": "markdown",
   "id": "d24d6081-d054-416f-983f-51e71e5fd5ec",
   "metadata": {},
   "source": [
    "## 2-way synchronisation using text input ipywidgets  "
   ]
  },
  {
   "cell_type": "code",
   "execution_count": 2,
   "id": "0134fb62-8ffd-4ce1-9641-987d3ecd2e58",
   "metadata": {},
   "outputs": [
    {
     "data": {
      "application/vnd.jupyter.widget-view+json": {
       "model_id": "173df471f9284e0f987b4b6fcafb382a",
       "version_major": 2,
       "version_minor": 0
      },
      "text/plain": [
       "IntSlider(value=50, _dom_classes=('uuidb5ffc6f6f2e84471817b95a954954239',))"
      ]
     },
     "metadata": {},
     "output_type": "display_data"
    },
    {
     "data": {
      "application/vnd.jupyter.widget-view+json": {
       "model_id": "22784141e8de4e109f88ae3c53fd6ff1",
       "version_major": 2,
       "version_minor": 0
      },
      "text/plain": [
       "Text(value='initial text', _dom_classes=('uuid860df0d4dd0f4c3bbc76ed2218222bf3',))"
      ]
     },
     "metadata": {},
     "output_type": "display_data"
    },
    {
     "data": {
      "application/vnd.jupyter.widget-view+json": {
       "model_id": "77efe6fea6dd4a9fb63f05e70c6d5c50",
       "version_major": 2,
       "version_minor": 0
      },
      "text/plain": [
       "Text(value='50', layout=Layout(display='none'), _dom_classes=('uuid94ea6856282244ab9e2621f34c24a815',))"
      ]
     },
     "metadata": {},
     "output_type": "display_data"
    },
    {
     "data": {
      "application/vnd.jupyter.widget-view+json": {
       "model_id": "08be69cd2d9446cfa7fbefae8df888b4",
       "version_major": 2,
       "version_minor": 0
      },
      "text/plain": [
       "Output()"
      ]
     },
     "metadata": {},
     "output_type": "display_data"
    }
   ],
   "source": [
    "import ipywidgets as widgets\n",
    "from IPython.display import display, Javascript\n",
    "import uuid\n",
    "\n",
    "# Create unique UUIDs for the widgets\n",
    "slider_uuid = \"uuid\" + str(uuid.uuid4()).replace('-', '')\n",
    "text_uuid = \"uuid\" + str(uuid.uuid4()).replace('-', '')\n",
    "hidden_text_uuid = \"uuid\" + str(uuid.uuid4()).replace('-', '')\n",
    "\n",
    "# Create the slider, text, and hidden text widgets with unique classes\n",
    "slider = widgets.IntSlider(value=50, min=0, max=100)\n",
    "slider.add_class(slider_uuid)\n",
    "text_widget = widgets.Text(value=\"initial text\")\n",
    "text_widget.add_class(text_uuid)\n",
    "hidden_text = widgets.Text(value=\"50\", layout={'display': 'none'})\n",
    "hidden_text.add_class(hidden_text_uuid)\n",
    "\n",
    "# Two-way linking\n",
    "slider.observe(lambda change: setattr(hidden_text, 'value', str(change['new'])), names='value')\n",
    "hidden_text.observe(lambda change: setattr(slider, 'value', int(change['new'])), names='value')\n",
    "\n",
    "# Create the Output widget with custom inputs\n",
    "output1 = widgets.Output()\n",
    "with output1:\n",
    "    display(Javascript(capture_console(f\"\"\"\n",
    "    const sliderInput = document.createElement('input');\n",
    "    sliderInput.type = 'range';\n",
    "    sliderInput.min = 0;\n",
    "    sliderInput.max = 100;\n",
    "    sliderInput.value = 50;\n",
    "    sliderInput.style.width = '210px';\n",
    "    element.appendChild(sliderInput);\n",
    "\n",
    "    const textInput = document.createElement('input');\n",
    "    textInput.type = 'text';\n",
    "    textInput.value = 'initial text';\n",
    "    textInput.style.width = '200px';\n",
    "    element.appendChild(textInput);\n",
    "\n",
    "    // JavaScript-to-Python synchronization\n",
    "    const sliderWidget = document.querySelector('.{slider_uuid}');\n",
    "    const hiddenTextWidget = document.querySelector('.{hidden_text_uuid}');\n",
    "    const textWidget = document.querySelector('.{text_uuid}');\n",
    "\n",
    "    sliderInput.addEventListener('input', () => {{\n",
    "        if (hiddenTextWidget) {{\n",
    "            const input = hiddenTextWidget.querySelector('input');\n",
    "            if (input) {{\n",
    "                input.value = sliderInput.value;\n",
    "                const changeEvent = new Event('change', {{ bubbles: true }});\n",
    "                input.dispatchEvent(changeEvent);\n",
    "                const inputEvent = new Event('input', {{ bubbles: true }});\n",
    "                input.dispatchEvent(inputEvent);\n",
    "            }}\n",
    "        }}\n",
    "    }});\n",
    "\n",
    "    textInput.addEventListener('input', () => {{\n",
    "        if (textWidget) {{\n",
    "            const input = textWidget.querySelector('input');\n",
    "            if (input) {{\n",
    "                input.value = textInput.value;\n",
    "                const changeEvent = new Event('change', {{ bubbles: true }});\n",
    "                input.dispatchEvent(changeEvent);\n",
    "                const inputEvent = new Event('input', {{ bubbles: true }});\n",
    "                input.dispatchEvent(inputEvent);\n",
    "            }}\n",
    "        }}\n",
    "    }});\n",
    "\n",
    "    // Python-to-JavaScript synchronization (polling)\n",
    "    setInterval(() => {{\n",
    "    try{{console._o=console._o||{{log:console.log,error:console.error,warn:console.warn,info:console.info}};[['log'],['error','red'],['warn'],['info']].forEach(([t,c=\"black\"])=>{{console[t]=console._o[t];let d=element.consoleOutput;if(!d){{d=document.createElement(\"div\");d.id=\"console-output\";d.style.cssText=\"white-space:pre-wrap;font-family:monospace;padding:0px;background:#f0f0f0;line-height:1.1;\";element.appendChild(d);element.consoleOutput=d;}}let o=console[t],n=o;while(n&&n.toString().indexOf(\"[native code]\")<0)n=n.apply?function(...a){{return n.apply(this,a);}}:null;o=function(...a){{(n||console._o[t]).apply(console,a);let s=a.map(e=>typeof e==='object'?JSON.stringify(e,null,2):e).join(' ');const m=document.createElement(\"div\");m.innerText=`[${{t.toUpperCase()}}] ${{s}}`;m.style.cssText=`margin:0;line-height:1.1;padding:0px 0;color:${{c}};`;d.appendChild(m);}};console[t]=o;}});\n",
    "  //       console.log(\"in set_imtervall\");\n",
    "        if (sliderWidget) {{\n",
    "            const readout = sliderWidget.querySelector('.widget-readout');\n",
    "            if (readout && sliderInput.value !== readout.textContent) {{\n",
    "                sliderInput.value = readout.textContent;\n",
    "            }}\n",
    "        }}\n",
    "        if (textWidget) {{\n",
    "            const input = textWidget.querySelector('input');\n",
    "            if (input && textInput.value !== input.value) {{\n",
    "                textInput.value = input.value;\n",
    "            }}\n",
    "        }}\n",
    "    }}catch(e){{console.error(\"Error:\",e);}}finally{{[['log'],['error','red'],['warn'],['info']].forEach(([t])=>console._o&&console._o[t]&&(console[t]=console._o[t]));}}\n",
    "    }}, 100); // Poll every 100ms\n",
    "    \"\"\")))\n",
    "\n",
    "# Display the widgets\n",
    "display(slider, text_widget, hidden_text, output1)"
   ]
  },
  {
   "cell_type": "code",
   "execution_count": 3,
   "id": "571c983f-c753-4591-830c-0d4c1c7b365a",
   "metadata": {},
   "outputs": [
    {
     "data": {
      "application/vnd.jupyter.widget-view+json": {
       "model_id": "173df471f9284e0f987b4b6fcafb382a",
       "version_major": 2,
       "version_minor": 0
      },
      "text/plain": [
       "IntSlider(value=50, _dom_classes=('uuidb5ffc6f6f2e84471817b95a954954239',))"
      ]
     },
     "metadata": {},
     "output_type": "display_data"
    },
    {
     "data": {
      "application/vnd.jupyter.widget-view+json": {
       "model_id": "22784141e8de4e109f88ae3c53fd6ff1",
       "version_major": 2,
       "version_minor": 0
      },
      "text/plain": [
       "Text(value='initial text', _dom_classes=('uuid860df0d4dd0f4c3bbc76ed2218222bf3',))"
      ]
     },
     "metadata": {},
     "output_type": "display_data"
    },
    {
     "data": {
      "application/vnd.jupyter.widget-view+json": {
       "model_id": "77efe6fea6dd4a9fb63f05e70c6d5c50",
       "version_major": 2,
       "version_minor": 0
      },
      "text/plain": [
       "Text(value='50', layout=Layout(display='none'), _dom_classes=('uuid94ea6856282244ab9e2621f34c24a815',))"
      ]
     },
     "metadata": {},
     "output_type": "display_data"
    },
    {
     "data": {
      "application/vnd.jupyter.widget-view+json": {
       "model_id": "08be69cd2d9446cfa7fbefae8df888b4",
       "version_major": 2,
       "version_minor": 0
      },
      "text/plain": [
       "Output()"
      ]
     },
     "metadata": {},
     "output_type": "display_data"
    }
   ],
   "source": [
    "display(slider, text_widget, hidden_text, output1)"
   ]
  }
 ],
 "metadata": {
  "kernelspec": {
   "display_name": "Python 3 (ipykernel)",
   "language": "python",
   "name": "python3"
  },
  "language_info": {
   "codemirror_mode": {
    "name": "ipython",
    "version": 3
   },
   "file_extension": ".py",
   "mimetype": "text/x-python",
   "name": "python",
   "nbconvert_exporter": "python",
   "pygments_lexer": "ipython3",
   "version": "3.11.0"
  }
 },
 "nbformat": 4,
 "nbformat_minor": 5
}
