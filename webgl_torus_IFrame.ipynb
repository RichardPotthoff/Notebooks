{
 "cells": [
  {
   "cell_type": "markdown",
   "id": "8ed7fd95-1d2a-40c1-b4bd-4651358e20b5",
   "metadata": {},
   "source": [
    "[![Run Jupyter Notebooks](https://mybinder.org/badge_logo.svg)](https://mybinder.org/v2/gh/RichardPotthoff/Notebooks/main?filepath=webgl_torus_IFrame.ipynb)\n",
    "\n",
    "[![Open In Colab](https://colab.research.google.com/assets/colab-badge.svg)](https://colab.research.google.com/github/RichardPotthoff/Notebooks/blob/main/webgl_torus_IFrame.ipynb)"
   ]
  },
  {
   "cell_type": "code",
   "execution_count": 1,
   "id": "5de2c32a-c5de-4841-a32b-be31cbfb52b7",
   "metadata": {},
   "outputs": [],
   "source": [
    "from math import pi\n",
    "deg=pi/180"
   ]
  },
  {
   "cell_type": "code",
   "execution_count": 3,
   "id": "85a729ba-7135-403e-8be6-2d7839b70479",
   "metadata": {
    "pythonista": {
     "disabled": false
    }
   },
   "outputs": [
    {
     "ename": "NameError",
     "evalue": "name 'base64' is not defined",
     "output_type": "error",
     "traceback": [
      "\u001b[0;31m---------------------------------------------------------------------------\u001b[0m",
      "\u001b[0;31mNameError\u001b[0m                                 Traceback (most recent call last)",
      "Cell \u001b[0;32mIn[3], line 97\u001b[0m\n\u001b[1;32m     95\u001b[0m \u001b[38;5;66;03m# Encode to base64 and create data URL\u001b[39;00m\n\u001b[1;32m     96\u001b[0m html_bytes \u001b[38;5;241m=\u001b[39m webgl_torus_html\u001b[38;5;241m.\u001b[39mencode(\u001b[38;5;124m'\u001b[39m\u001b[38;5;124mutf-8\u001b[39m\u001b[38;5;124m'\u001b[39m)\n\u001b[0;32m---> 97\u001b[0m base64_encoded \u001b[38;5;241m=\u001b[39m \u001b[43mbase64\u001b[49m\u001b[38;5;241m.\u001b[39mb64encode(html_bytes)\u001b[38;5;241m.\u001b[39mdecode(\u001b[38;5;124m'\u001b[39m\u001b[38;5;124mutf-8\u001b[39m\u001b[38;5;124m'\u001b[39m)\n\u001b[1;32m     98\u001b[0m data_url \u001b[38;5;241m=\u001b[39m \u001b[38;5;124mf\u001b[39m\u001b[38;5;124m\"\u001b[39m\u001b[38;5;124mdata:text/html;base64,\u001b[39m\u001b[38;5;132;01m{\u001b[39;00mbase64_encoded\u001b[38;5;132;01m}\u001b[39;00m\u001b[38;5;124m\"\u001b[39m\n\u001b[1;32m    100\u001b[0m \u001b[38;5;66;03m# Display in IFrame\u001b[39;00m\n",
      "\u001b[0;31mNameError\u001b[0m: name 'base64' is not defined"
     ]
    }
   ],
   "source": [
    "import base64\n",
    "from IPython.display import IFrame\n",
    "\n",
    "html_string=\"\"\"\n",
    " <!-- Licensed under a BSD license. See license.html for license -->\n",
    "<!DOCTYPE html>\n",
    "\n",
    "<html>\n",
    "<head>\n",
    "<meta charset=\"utf-8\"/>\n",
    "<meta content=\"width=device-width, initial-scale=1.0, user-scalable=yes\" name=\"viewport\"/>\n",
    "<title>WebGL - 3D Torus</title>\n",
    "</head>\n",
    "<body></body>\n",
    "<script type=\"text/javascript\">(function(global){const{sin,cos,sqrt,tan,PI}=Math,pi=PI;function xRot(a){const s=sin(a);const c=cos(a);return[1,0,0,0,0,c,s,0,0,-s,c,0,0,0,0,1];}\n",
    "function yRot(a){const s=sin(a);const c=cos(a);return[c,0,-s,0,0,1,0,0,s,0,c,0,0,0,0,1];}\n",
    "function zRot(a){const s=sin(a);const c=cos(a);return[c,s,0,0,-s,c,0,0,0,0,1,0,0,0,0,1];}\n",
    "function vRot([x,y,z],theta){x??=0;y??=0;z??=0;const length=sqrt(x*x+y*y+z*z);if(length==0){if(theta===undefined){return[1,0,0,0,0,1,0,0,0,0,1,0,0,0,0,1];}\n",
    "else{throw new Error(\"Rotation axis vector cannot be zero if a rotation angle is specified!\");}}\n",
    "if(theta===undefined) theta=length;const c=cos(theta);const c1=1-c;const s=sin(theta);x/=length;y/=length;z/=length;return[c+c1*x**2,c1*x*y+s*z,c1*x*z-s*y,0,c1*x*y-s*z,c+c1*y**2,c1*y*z+s*x,0,c1*x*z+s*y,c1*y*z-s*x,c+c1*z**2,0,0,0,0,1];}\n",
    "function tLat([tx,ty,tz]){tx??=0;ty??=0;tz??=0;return[1,0,0,0,0,1,0,0,0,0,1,0,tx,ty,tz,1];}\n",
    "function scal([sx,sy,sz]){sx??=1;sy??=1;sz??=1;return[sx,0,0,0,0,sy,0,0,0,0,sz,0,0,0,0,1];}\n",
    "function T(A){return new Float32Array([A[0],A[4],A[8],A[12],A[1],A[5],A[9],A[13],A[2],A[6],A[10],A[14],A[3],A[7],A[11],A[15]]);}\n",
    "function mMul(B,A){const C=new Array(16);let sum;for(let i=0;i<4;++i)\n",
    "for(let j=0;j<4;++j){sum=0;for(let k=0;k<4;++k)\n",
    "sum+=B[i+4*k]*A[4*j+k];C[i+4*j]=sum;}\n",
    "return C;}\n",
    "function vMul(A,[x0,x1,x2,x3]){x0??=0;x1??=0;x2??=0;x3??=0;return new Float32Array([A[0]*x0+A[4]*x1+A[8]*x2+A[12]*x3,A[1]*x0+A[5]*x1+A[9]*x2+A[13]*x3,A[2]*x0+A[6]*x1+A[10]*x2+A[14]*x3,A[3]*x0+A[7]*x1+A[11]*x2+A[15]*x3]);}\n",
    "function persp(fov,aspR,near,far){const f=tan(pi*0.5-0.5*fov);const nfInv=1.0/(near-far);return[f/aspR,0,0,0,0,f,0,0,0,0,nfInv*(far+near),-1,0,0,2*far*near*nfInv,0];}\n",
    "function cMaj(A){return A;}\n",
    "function rMaj(A){return T(A);}\n",
    "function camMat([tx,ty,tz],azim,elev,d){tx??=0;ty??=0;tz??=0;d??=0;const s=sin(azim),c=cos(azim),se=sin(elev),ce=cos(elev);return new Float32Array([-s,-c*se,c*ce,0,c,-s*se,ce*s,0,0,ce,se,0,-c*ty+s*tx,c*se*tx-ce*tz+s*se*ty,-c*ce*tx-ce*s*ty-d-se*tz,1])};function icamMat(t,C,d){d??=0;return new Float32Array([C[0],C[4],C[8],0,C[1],C[5],C[9],0,C[2],C[6],C[10],0,C[2]*d+t[0]??0,C[6]*d+t[1]??0,C[10]*d+t[2]??0,1])};function camPos(targ,camMat,d){const[tx,ty,tz]=targ;const ex=camMat[2],ey=camMat[6],ez=camMat[10];return[tx+ex*d,ty+ey*d,tz+ez*d,1];};if(!(\"modules\" in global)){global[\"modules\"]={}}\n",
    "global.modules[\"m4_cMaj.js\"]={xRot,yRot,zRot,vRot,tLat,scal,T,mMul,vMul,persp,cMaj,rMaj,camMat,icamMat,camPos};})(window);(function(global){const element=document.body;const deg=Math.PI/180;const iDeg=1/deg;function radToDeg(r){return r*iDeg;}\n",
    "function degToRad(d){return d*deg;}\n",
    "let vertexShaderSource=`\n",
    "attribute vec4 a_position;\n",
    "attribute vec4 a_normal;\n",
    "\n",
    "uniform mat4 u_matrix;\n",
    "\n",
    "varying vec4 v_color;\n",
    "\n",
    "void main() {\n",
    "  // Multiply the position by the matrix.\n",
    "  gl_Position = u_matrix * a_position;\n",
    "\n",
    "  // Pass the color to the fragment shader.\n",
    "  v_color = vec4(0.0,0.0,0.0,1.0);  \n",
    "\n",
    "  float wxp =max(a_normal.x,0.0);\n",
    "  float wxn =max(-a_normal.x,0.0);\n",
    "  float wyp= max(a_normal.y,0.0);\n",
    "  float wyn= max(-a_normal.y,0.0);\n",
    "  float wzp= max(a_normal.z,0.0);\n",
    "  float wzn= max(-a_normal.z,0.0);\n",
    "  \n",
    "  v_color.xyz += wxp*wxp*wxp *vec3(1.0,0.0,0.0);\n",
    "  v_color.xyz += wxn*wxn*wxn *vec3(0.1725,0.8157,0.7843);\n",
    "  v_color.xyz += wyp*wyp*wyp *vec3(0.0,0.8706,0.0);\n",
    "  v_color.xyz += wyn*wyn*wyn *vec3(0.9412,0.06275,1.0);\n",
    "  v_color.xyz += wzp*wzp*wzp *vec3(0.102,0.3451,1.0);\n",
    "  v_color.xyz += wzn*wzn*wzn *vec3(0.9137,0.9098,0.07451);\n",
    "\n",
    "}\n",
    "`;let fragmentShaderSource=`\n",
    "precision mediump float;\n",
    "\n",
    "// Passed in from the vertex shader.\n",
    "varying vec4 v_color;\n",
    "\n",
    "void main() {\n",
    "   gl_FragColor = v_color;\n",
    "}\n",
    "`;const state={animate:false};const hint=document.createElement(\"div\");hint.innerText=\"Drag to rotate.\";element.appendChild(hint);const canvas=document.createElement(\"canvas\");canvas.style.display=\"inline-block\";canvas.style.width=\"400px\";canvas.style.height=\"400px\";element.appendChild(canvas);const gl=canvas.getContext(\"webgl\");let isDragging=false;let previousTouchX=0;let previousTouchY=0;let scale=1;let translateX=0;let translateY=0;canvas.addEventListener('touchstart',(e)=>{e.preventDefault();isDragging=true;if(e.touches.length===1){previousTouchX=e.touches[0].clientX;previousTouchY=e.touches[0].clientY;}});canvas.addEventListener('touchmove',(e)=>{e.preventDefault();if(!isDragging) return;if(e.touches.length===1){const currentX=e.touches[0].clientX;const currentY=e.touches[0].clientY;const deltaX=currentX-previousTouchX;const deltaY=currentY-previousTouchY;camera.azim=(camera.azim-deltaX*0.01)%(Math.PI*2);camera.elev=Math.max(Math.min(camera.elev+deltaY*0.01,Math.PI/2),-Math.PI/2);previousTouchX=currentX;previousTouchY=currentY;} else if(e.touches.length===2){const touch1=e.touches[0];const touch2=e.touches[1];const currentDistance=Math.hypot(touch1.clientX-touch2.clientX,touch1.clientY-touch2.clientY);if(!canvas.dataset.previousDistance){canvas.dataset.previousDistance=currentDistance;}\n",
    "const previousDistance=parseFloat(canvas.dataset.previousDistance);const distanceDelta=currentDistance-previousDistance;scale+=distanceDelta*0.005;scale=Math.max(0.1,Math.min(scale,10));const midX=(touch1.clientX+touch2.clientX)/2;const midY=(touch1.clientY+touch2.clientY)/2;if(canvas.dataset.previousMidX){translateX+=midX-parseFloat(canvas.dataset.previousMidX);translateY+=midY-parseFloat(canvas.dataset.previousMidY);}\n",
    "canvas.dataset.previousDistance=currentDistance;canvas.dataset.previousMidX=midX;canvas.dataset.previousMidY=midY;}\n",
    "drawScene();});canvas.addEventListener('touchend',(e)=>{e.preventDefault();isDragging=false;delete canvas.dataset.previousDistance;delete canvas.dataset.previousMidX;delete canvas.dataset.previousMidY;});canvas.addEventListener('touchcancel',()=>{isDragging=false;delete canvas.dataset.previousDistance;delete canvas.dataset.previousMidX;delete canvas.dataset.previousMidY;});document.addEventListener('touchmove',(e)=>{if(e.target===canvas){e.preventDefault();}},{passive:false});let program;let normalLocation;let positionLocation;let matrixLocation;const camera={fov:30*deg,target:[0,0,0],azim:30*deg,elev:40*deg,dist:1000};function cube(dx=1,dy,dz){const numVertices=24;const stride=6*4;const X=0.5*dx;const Y=dy|X;const Z=dz|X;const vertices=new Float32Array([X,-Y,-Z,1,0,0,X,Y,-Z,1,0,0,X,Y,Z,1,0,0,X,-Y,Z,1,0,0,-X,Y,Z,-1,0,0,-X,Y,-Z,-1,0,0,-X,-Y,-Z,-1,0,0,-X,-Y,Z,-1,0,0,-X,Y,-Z,0,1,0,-X,Y,Z,0,1,0,X,Y,Z,0,1,0,X,Y,-Z,0,1,0,X,-Y,Z,0,-1,0,-X,-Y,Z,0,-1,0,-X,-Y,-Z,0,-1,0,X,-Y,-Z,0,-1,0,-X,-Y,Z,0,0,1,X,-Y,Z,0,0,1,X,Y,Z,0,0,1,-X,Y,Z,0,0,1,X,Y,-Z,0,0,-1,X,-Y,-Z,0,0,-1,-X,-Y,-Z,0,0,-1,-X,Y,-Z,0,0,-1,]);const indices=new Int16Array([0,1,2,2,3,0,4,5,6,6,7,4,8,9,10,10,11,8,12,13,14,14,15,12,16,17,18,18,19,16,20,21,22,22,23,20]);return{indices,vertices,stride,numVertices};}\n",
    "function circle(r,n){const epath=[]\n",
    "for(let i=0;i<n;i++){const theta=i*2*Math.PI/n;const s=Math.sin(theta);const c=Math.cos(theta);epath[i]=[[r*c,r*s],[-s,c]];}\n",
    "return epath;}\n",
    "function extrude(epath,shape){const m=epath.length;const n=shape.length;const numVertices=m*n;const vertices=new Float32Array(numVertices*6);const stride=6*4;const indices=new Int16Array(numVertices*6);for(let j=0;j<m;j++){let[[x_p,y_p],[ms_p,c_p]]=epath[j];for(let i=0;i<n;i++){const[[x_s,y_s],[ms_s,c_s]]=shape[i];const k=j*n+i\n",
    "vertices[k*6+0]=x_p+x_s*c_p;vertices[k*6+1]=y_p-x_s*ms_p;vertices[k*6+2]=y_s;vertices[k*6+3]=c_s*c_p;vertices[k*6+4]=-c_s*ms_p;vertices[k*6+5]=-ms_s;indices[k*6+0]=j*n+i;indices[k*6+1]=((j+1)%m)*n+((i+1)%n);indices[k*6+2]=j*n+((i+1)%n);indices[k*6+3]=j*n+i;indices[k*6+4]=((j+1)%m)*n+i;indices[k*6+5]=((j+1)%m)*n+((i+1)%n);}}\n",
    "return{indices,vertices,stride,numVertices}}\n",
    "const ShapeData={};function initialize(){Object.assign(ShapeData,(extrude(circle(150,50),circle(50.0,30))));if(!gl){return;}\n",
    "const vertexShader=gl.createShader(gl.VERTEX_SHADER);gl.shaderSource(vertexShader,vertexShaderSource);gl.compileShader(vertexShader);const fragmentShader=gl.createShader(gl.FRAGMENT_SHADER);gl.shaderSource(fragmentShader,fragmentShaderSource);gl.compileShader(fragmentShader);program=gl.createProgram();[vertexShader,fragmentShader].forEach(function(shader){gl.attachShader(program,shader);});gl.linkProgram(program);gl.useProgram(program);positionLocation=gl.getAttribLocation(program,\"a_position\");normalLocation=gl.getAttribLocation(program,\"a_normal\");matrixLocation=gl.getUniformLocation(program,\"u_matrix\");let vertexBuffer=gl.createBuffer();gl.bindBuffer(gl.ARRAY_BUFFER,vertexBuffer);gl.bufferData(gl.ARRAY_BUFFER,ShapeData.vertices,gl.STATIC_DRAW);gl.enableVertexAttribArray(positionLocation);gl.vertexAttribPointer(positionLocation,3,gl.FLOAT,false,ShapeData.stride,0);gl.enableVertexAttribArray(normalLocation);gl.vertexAttribPointer(normalLocation,3,gl.FLOAT,true,ShapeData.stride,12);let indexBuffer=gl.createBuffer();gl.bindBuffer(gl.ELEMENT_ARRAY_BUFFER,indexBuffer);gl.bufferData(gl.ELEMENT_ARRAY_BUFFER,ShapeData.indices,gl.STATIC_DRAW);drawScene();}\n",
    "function updateTargetAngle(event,ui){targetAngleRadians=degToRad(ui.value);target[0]=Math.sin(targetAngleRadians)*targetRadius;target[2]=Math.cos(targetAngleRadians)*targetRadius;drawScene();}\n",
    "function updateTargetHeight(event,ui){target[1]=ui.value;drawScene();}\n",
    "function updateSceneRotation(event,ui){sceneRotationRadians=degToRad(ui.value);drawScene();}\n",
    "function updateSceneElevation(event,ui){sceneElevationRadians=degToRad(ui.value);drawScene();}\n",
    "function drawScene(){let targ=[0,0,0];let cM=M4.camMat(targ,camera.azim,camera.elev,camera.dist);console.log(\"camMat\",cM);let icM=M4.icamMat(targ,cM,camera.dist);console.log(\"icamMat\",icM);console.log(\"vMul(icM,[0,0,0,1])\",M4.vMul(icM,[0,0,0,1]))\n",
    "let cP=M4.camPos(targ,cM,camera.dist);console.log(\"camPos\",cP);console.log(\"vRot\",M4.vRot([0,0,camera.azim]));let numFs=5;gl.canvas.width=gl.canvas.clientWidth;gl.canvas.height=gl.canvas.clientHeight;gl.viewport(0,0,gl.canvas.width,gl.canvas.height);gl.clear(gl.COLOR_BUFFER_BIT|gl.DEPTH_BUFFER_BIT);gl.enable(gl.CULL_FACE);gl.enable(gl.DEPTH_TEST);gl.useProgram(program);let aspR=gl.canvas.clientWidth/gl.canvas.clientHeight;let zNear=1;let zFar=camera.dist+1000;let projectionMatrix=M4.persp(camera.fov,aspR,zNear,zFar);let viewProjectionMatrix=M4.mMul(projectionMatrix,cM);drawTorus([1,0,0,0,0,1,0,0,0,0,1,0,0,0,0,1],viewProjectionMatrix,matrixLocation);if(state.animate){camera.azim=(camera.azim+0.02)%(Math.PI*2);slider.value=(camera.azim/deg);requestAnimationFrame(drawScene);}}\n",
    "function drawTorus(matrix,viewProjectionMatrix,matrixLocation){matrix=M4.mMul(viewProjectionMatrix,matrix);gl.uniformMatrix4fv(matrixLocation,false,M4.cMaj(matrix));gl.drawElements(gl.TRIANGLES,ShapeData.indices.length,gl.UNSIGNED_SHORT,0);}\n",
    "let M4=modules[\"m4_cMaj.js\"];initialize();if(!(\"modules\" in global)){global[\"modules\"]={}}\n",
    "global.modules[\"webgl-torus.js\"]={radToDeg,degToRad,vertexShaderSource,fragmentShaderSource,state,program,normalLocation,positionLocation,matrixLocation,camera,ShapeData,drawScene,render:drawScene};})(window);</script>\n",
    "</html>\n",
    "\"\"\"\n",
    "# Encode to base64 and create data URL\n",
    "html_bytes = html_string.encode('utf-8')\n",
    "base64_encoded = base64.b64encode(html_bytes).decode('utf-8')\n",
    "data_url = f\"data:text/html;base64,{base64_encoded}\"\n",
    "\n",
    "# Display in IFrame\n",
    "display(IFrame(src=data_url, width=400, height=420))"
   ]
  },
  {
   "cell_type": "code",
   "execution_count": null,
   "id": "96736ff3-bd4d-412d-acff-604cd54c22af",
   "metadata": {
    "collapsed": false,
    "jupyter": {
     "outputs_hidden": false,
     "source_hidden": false
    },
    "pythonista": {
     "disabled": false
    }
   },
   "outputs": [],
   "source": []
  }
 ],
 "metadata": {
  "kernelspec": {
   "display_name": "Python 3 (ipykernel)",
   "language": "python",
   "name": "python3"
  },
  "language_info": {
   "codemirror_mode": {
    "name": "ipython",
    "version": 3
   },
   "file_extension": ".py",
   "mimetype": "text/x-python",
   "name": "python",
   "nbconvert_exporter": "python",
   "pygments_lexer": "ipython3",
   "version": "3.11.0"
  }
 },
 "nbformat": 4,
 "nbformat_minor": 5
}
