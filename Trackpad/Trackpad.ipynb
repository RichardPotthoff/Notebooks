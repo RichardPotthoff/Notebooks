{
 "cells": [
  {
   "cell_type": "markdown",
   "id": "ba918f19-66c2-436a-a7eb-b350ca5251ba",
   "metadata": {},
   "source": [
    "[![Run Jupyter Notebooks](https://mybinder.org/badge_logo.svg)](https://mybinder.org/v2/gh/RichardPotthoff/Notebooks/main?filepath=Trackpad/Trackpad.ipynb)   <- click here to open this file in MyBinder\n",
    "    \n",
    "[![Open In Colab](https://colab.research.google.com/assets/colab-badge.svg)](https://colab.research.google.com/github/RichardPotthoff/Notebooks/blob/main/Trackpad/Trackpad.ipynb)   <- click here to open this file in Google Colab"
   ]
  },
  {
   "cell_type": "code",
   "execution_count": null,
   "id": "b6516dd9-3985-4b06-a0fc-a7e5d69664b8",
   "metadata": {},
   "outputs": [],
   "source": [
    "def capture_console(code):\n",
    "    return (\n",
    "\"\"\"\n",
    "try{console._o=console._o||{log:console.log,error:console.error,warn:console.warn,info:console.info};[['log'],['error','red'],['warn'],['info']].forEach(([t,c=\"black\"])=>{console[t]=console._o[t];let d=element.consoleOutput;if(!d){d=document.createElement(\"div\");d.id=\"console-output\";d.style.cssText=\"white-space:pre-wrap;font-family:monospace;padding:0px;background:#f0f0f0;line-height:1.1;\";element.appendChild(d);element.consoleOutput=d;}let o=console[t],n=o;while(n&&n.toString().indexOf(\"[native code]\")<0)n=n.apply?function(...a){return n.apply(this,a);}:null;o=function(...a){(n||console._o[t]).apply(console,a);let s=a.map(e=>typeof e==='object'?JSON.stringify(e,null,2):e).join(' ');const m=document.createElement(\"div\");m.innerText=`[${t.toUpperCase()}] ${s}`;m.style.cssText=`margin:0;line-height:1.1;padding:0px 0;color:${c};`;d.appendChild(m);};console[t]=o;});\n",
    "\"\"\"  +\n",
    "code + \n",
    "\"\"\"\n",
    "}catch(e){console.error(\"Error:\",e);}finally{[['log'],['error','red'],['warn'],['info']].forEach(([t])=>console._o&&console._o[t]&&(console[t]=console._o[t]));}\n",
    "\"\"\"\n",
    ")"
   ]
  },
  {
   "cell_type": "markdown",
   "id": "d24d6081-d054-416f-983f-51e71e5fd5ec",
   "metadata": {},
   "source": [
    "## 2-way synchronisation using text input ipywidgets  "
   ]
  },
  {
   "cell_type": "code",
   "execution_count": 2,
   "id": "5859a37c-6419-4b93-8580-c4379e03d58a",
   "metadata": {},
   "outputs": [
    {
     "data": {
      "application/vnd.jupyter.widget-view+json": {
       "model_id": "a2118441cf334a74beaaeea0c019784f",
       "version_major": 2,
       "version_minor": 0
      },
      "text/plain": [
       "Text(value='{\"width\": 400, \"height\": 300, \"minx\": -40, \"maxx\": 40, \"miny\": -30, \"maxy\": 30}', layout=Layout(di…"
      ]
     },
     "metadata": {},
     "output_type": "display_data"
    },
    {
     "data": {
      "application/vnd.jupyter.widget-view+json": {
       "model_id": "add422eee91c4cd69512546b09c20117",
       "version_major": 2,
       "version_minor": 0
      },
      "text/plain": [
       "Text(value='{\"x\": 0.0, \"y\": 0.0}', layout=Layout(display='none'), _dom_classes=('uuidb6d02c726c44447e8b391a112…"
      ]
     },
     "metadata": {},
     "output_type": "display_data"
    },
    {
     "data": {
      "application/vnd.jupyter.widget-view+json": {
       "model_id": "0cf5a0a763494c68a75245dd12896572",
       "version_major": 2,
       "version_minor": 0
      },
      "text/plain": [
       "FloatSlider(value=0.0, description='X:', max=40.0, min=-40.0, _dom_classes=('uuid938dea47405d4d28aa76c09b549c8…"
      ]
     },
     "metadata": {},
     "output_type": "display_data"
    },
    {
     "data": {
      "application/vnd.jupyter.widget-view+json": {
       "model_id": "89d43c907d944f79b26b8bb846921655",
       "version_major": 2,
       "version_minor": 0
      },
      "text/plain": [
       "FloatSlider(value=0.0, description='Y:', max=30.0, min=-30.0, _dom_classes=('uuid6353a53a72e44c9b9f494b90ef37e…"
      ]
     },
     "metadata": {},
     "output_type": "display_data"
    },
    {
     "data": {
      "application/vnd.jupyter.widget-view+json": {
       "model_id": "94c83a9ca6244d089b3657a6d48ed5d5",
       "version_major": 2,
       "version_minor": 0
      },
      "text/plain": [
       "Output()"
      ]
     },
     "metadata": {},
     "output_type": "display_data"
    }
   ],
   "source": [
    "import ipywidgets as widgets\n",
    "from IPython.display import display, Javascript\n",
    "import uuid\n",
    "import json\n",
    "\n",
    "# Create unique UUIDs for widgets\n",
    "config_uuid = \"uuid\" + str(uuid.uuid4()).replace('-', '')\n",
    "valxy_uuid = \"uuid\" + str(uuid.uuid4()).replace('-', '')\n",
    "x_slider_uuid = \"uuid\" + str(uuid.uuid4()).replace('-', '')\n",
    "y_slider_uuid = \"uuid\" + str(uuid.uuid4()).replace('-', '')\n",
    "\n",
    "# Configuration (width, height, minx, maxx, miny, maxy)\n",
    "initial_config = {\n",
    "    \"width\": 400,\n",
    "    \"height\": 300,\n",
    "    \"minx\": -40 ,\n",
    "    \"maxx\": 40,\n",
    "    \"miny\": -30,\n",
    "    \"maxy\": 30\n",
    "}\n",
    "\n",
    "config_widget = widgets.Text(value=json.dumps(initial_config), layout={'display': 'none'})\n",
    "config_widget.add_class(config_uuid)\n",
    "minx,maxx,miny,maxy,x0,y0=(lambda minx,maxx,miny,maxy,**_:(minx,maxx,miny,maxy,(minx+maxx)/2,(miny+maxy)/2))(**initial_config)\n",
    "\n",
    "# Current x/y coordinates (scaled to minx/maxx, miny/maxy)\n",
    "initial_valxy = {\"x\": x0, \"y\": y0}\n",
    "valxy_widget = widgets.Text(value=json.dumps(initial_valxy), layout={'display': 'none'})\n",
    "valxy_widget.add_class(valxy_uuid)\n",
    "\n",
    "# Sliders for demonstration (not part of Trackpad)\n",
    "x_slider = widgets.FloatSlider(value=x0, min=minx, max=maxx, description=\"X:\")\n",
    "x_slider.add_class(x_slider_uuid) \n",
    "y_slider = widgets.FloatSlider(value=y0, min=miny, max=maxy, description=\"Y:\")\n",
    "y_slider.add_class(y_slider_uuid)\n",
    "\n",
    "# Update sliders' ranges when config changes\n",
    "def on_config_change(change):\n",
    "    try:\n",
    "        config = json.loads(change[\"new\"])\n",
    "        x_slider.min = config[\"minx\"]\n",
    "        x_slider.max = config[\"maxx\"]\n",
    "        y_slider.min = config[\"miny\"]\n",
    "        y_slider.max = config[\"maxy\"]\n",
    "        # Ensure current values are within new range\n",
    "        valxy = json.loads(valxy_widget.value)\n",
    "        valxy[\"x\"] = max(config[\"minx\"], min(config[\"maxx\"], valxy[\"x\"]))\n",
    "        valxy[\"y\"] = max(config[\"miny\"], min(config[\"maxy\"], valxy[\"y\"]))\n",
    "        valxy_widget.value = json.dumps(valxy)\n",
    "    except (json.JSONDecodeError, KeyError):\n",
    "        pass\n",
    "\n",
    "config_widget.observe(on_config_change, names=\"value\")\n",
    "\n",
    "# Handle canvas updates (JavaScript → Python)\n",
    "def on_valxy_change(change):\n",
    "    try:\n",
    "        valxy = json.loads(change[\"new\"])\n",
    "        x, y = valxy[\"x\"], valxy[\"y\"]\n",
    "        # Update sliders\n",
    "        x_slider.value = x\n",
    "        y_slider.value = y\n",
    "    except (json.JSONDecodeError, KeyError):\n",
    "        pass\n",
    "\n",
    "valxy_widget.observe(on_valxy_change, names=\"value\")\n",
    "\n",
    "# Handle slider updates (Python → JavaScript)\n",
    "def on_x_slider_change(change):\n",
    "    valxy = json.loads(valxy_widget.value)\n",
    "    valxy[\"x\"] = change[\"new\"]\n",
    "    valxy_widget.value = json.dumps(valxy)\n",
    "\n",
    "def on_y_slider_change(change):\n",
    "    valxy = json.loads(valxy_widget.value)\n",
    "    valxy[\"y\"] = change[\"new\"]\n",
    "    valxy_widget.value = json.dumps(valxy)\n",
    "\n",
    "x_slider.observe(on_x_slider_change, names=\"value\")\n",
    "y_slider.observe(on_y_slider_change, names=\"value\")\n",
    "\n",
    "# Output widget for canvas\n",
    "output = widgets.Output()\n",
    "\n",
    "with output:\n",
    "    display(Javascript(f\"\"\"\n",
    "    // Read configuration\n",
    "    const configWidget = document.querySelector('.{config_uuid}');\n",
    "    let config = JSON.parse(configWidget.querySelector('input').value);\n",
    "    const canvas = document.createElement('canvas');\n",
    "    canvas.width = config.width;\n",
    "    canvas.height = config.height;\n",
    "    canvas.style.border = '1px solid black';\n",
    "    element.appendChild(canvas);\n",
    "    const ctx = canvas.getContext('2d');\n",
    "\n",
    "    // Trackpad state\n",
    "    let isDragging = false;\n",
    "    let currentX = 0;\n",
    "    let currentY = 0;\n",
    "\n",
    "    // Draw dot\n",
    "    function drawDot(x, y) {{\n",
    "        ctx.clearRect(0, 0, canvas.width, canvas.height);\n",
    "        ctx.beginPath();\n",
    "        ctx.arc(x, y, 5, 0, 2 * Math.PI);\n",
    "        ctx.fillStyle = 'blue';\n",
    "        ctx.fill();\n",
    "    }}\n",
    "\n",
    "    // Scale coordinates\n",
    "    function scaleToCanvas(x, y) {{\n",
    "        const minx = config.minx, maxx = config.maxx;\n",
    "        const miny = config.miny, maxy = config.maxy;\n",
    "        const width = config.width, height = config.height;\n",
    "        const canvasX = (x - minx) / (maxx - minx) * width;\n",
    "        const canvasY = height - ((y - miny) / (maxy - miny) * height); // Invert Y-axis\n",
    "        return [canvasX, canvasY];\n",
    "    }}\n",
    "\n",
    "    function scaleFromCanvas(canvasX, canvasY) {{\n",
    "        const minx = config.minx, maxx = config.maxx;\n",
    "        const miny = config.miny, maxy = config.maxy;\n",
    "        const width = config.width, height = config.height;\n",
    "        const x = minx + (canvasX / width) * (maxx - minx);\n",
    "        const y = miny + ((height - canvasY) / height) * (maxy - miny); // Invert Y-axis\n",
    "        return [x, y];\n",
    "    }}\n",
    "\n",
    "    // Event handlers\n",
    "    function handleStart(x, y) {{\n",
    "        isDragging = true;\n",
    "        updatePosition(x, y);\n",
    "    }}\n",
    "\n",
    "    function handleMove(x, y) {{\n",
    "        if (isDragging) {{\n",
    "            updatePosition(x, y);\n",
    "        }}\n",
    "    }}\n",
    "\n",
    "    function handleEnd() {{\n",
    "        isDragging = false;\n",
    "    }}\n",
    "\n",
    "    function updatePosition(x, y) {{\n",
    "        currentX = Math.max(0, Math.min(x, canvas.width));\n",
    "        currentY = Math.max(0, Math.min(y, canvas.height));\n",
    "        drawDot(currentX, currentY);\n",
    "        const [scaledX, scaledY] = scaleFromCanvas(currentX, currentY);\n",
    "        const valxyWidget = document.querySelector('.{valxy_uuid}');\n",
    "        if (valxyWidget) {{\n",
    "            const input = valxyWidget.querySelector('input');\n",
    "            input.value = JSON.stringify({{ x: scaledX, y: scaledY }});\n",
    "            const changeEvent = new Event('change', {{ bubbles: true }});\n",
    "            input.dispatchEvent(changeEvent);\n",
    "            const inputEvent = new Event('input', {{ bubbles: true }});\n",
    "            input.dispatchEvent(inputEvent);\n",
    "        }}\n",
    "    }}\n",
    "\n",
    "    // Mouse events\n",
    "    canvas.addEventListener('mousedown', (e) => {{\n",
    "        const rect = canvas.getBoundingClientRect();\n",
    "        handleStart(e.clientX - rect.left, e.clientY - rect.top);\n",
    "    }});\n",
    "\n",
    "    canvas.addEventListener('mousemove', (e) => {{\n",
    "        const rect = canvas.getBoundingClientRect();\n",
    "        handleMove(e.clientX - rect.left, e.clientY - rect.top);\n",
    "    }});\n",
    "\n",
    "    canvas.addEventListener('mouseup', handleEnd);\n",
    "    canvas.addEventListener('mouseleave', handleEnd);\n",
    "\n",
    "    // Touch events\n",
    "    canvas.addEventListener('touchstart', (e) => {{\n",
    "        e.preventDefault();\n",
    "        const rect = canvas.getBoundingClientRect();\n",
    "        const touch = e.touches[0];\n",
    "        handleStart(touch.clientX - rect.left, touch.clientY - rect.top);\n",
    "    }});\n",
    "\n",
    "    canvas.addEventListener('touchmove', (e) => {{\n",
    "        e.preventDefault();\n",
    "        const rect = canvas.getBoundingClientRect();\n",
    "        const touch = e.touches[0];\n",
    "        handleMove(touch.clientX - rect.left, touch.clientY - rect.top);\n",
    "    }});\n",
    "\n",
    "    canvas.addEventListener('touchend', handleEnd);\n",
    "    canvas.addEventListener('touchcancel', handleEnd);\n",
    "\n",
    "    // Initial draw\n",
    "    const valxyWidget = document.querySelector('.{valxy_uuid}');\n",
    "    let lastValxy = valxyWidget.querySelector('input').value;\n",
    "    let [x, y] = scaleToCanvas({initial_valxy[\"x\"]}, {initial_valxy[\"y\"]});\n",
    "    drawDot(x, y);\n",
    "\n",
    "    // Poll for Python → JavaScript updates\n",
    "    setInterval(() => {{\n",
    "        // Update config\n",
    "        const newConfig = JSON.parse(configWidget.querySelector('input').value);\n",
    "        if (canvas.width !== newConfig.width || canvas.height !== newConfig.height) {{\n",
    "            canvas.width = newConfig.width;\n",
    "            canvas.height = newConfig.height;\n",
    "        }}\n",
    "        config = newConfig; // Update config for scaling\n",
    "        const newValxy = valxyWidget.querySelector('input').value;\n",
    "        if (newValxy !== lastValxy) {{\n",
    "            lastValxy = newValxy;\n",
    "            const valxy = JSON.parse(newValxy);\n",
    "            [currentX, currentY] = scaleToCanvas(valxy.x, valxy.y);\n",
    "            drawDot(currentX, currentY);\n",
    "        }}\n",
    "    }}, 100);\n",
    "    \"\"\"))\n",
    "\n",
    "# Display widgets\n",
    "display(config_widget, valxy_widget, x_slider, y_slider, output)"
   ]
  },
  {
   "cell_type": "code",
   "execution_count": null,
   "id": "4b8c74f4-dee1-4888-8142-e8a2f27fe2a0",
   "metadata": {},
   "outputs": [],
   "source": [
    "minx,maxx,miny,maxy,x0,y0=(lambda minx,maxx,miny,maxy,**_:(minx,maxx,miny,maxy,(minx+maxx)/2,(miny+maxy)/2))(**initial_config)\n",
    "print(minx,maxx,miny,maxy,x0,y0)"
   ]
  },
  {
   "cell_type": "code",
   "execution_count": null,
   "id": "5f1f401d-75ba-443a-86eb-d243003980e1",
   "metadata": {},
   "outputs": [],
   "source": []
  }
 ],
 "metadata": {
  "kernelspec": {
   "display_name": "Python 3 (ipykernel)",
   "language": "python",
   "name": "python3"
  },
  "language_info": {
   "codemirror_mode": {
    "name": "ipython",
    "version": 3
   },
   "file_extension": ".py",
   "mimetype": "text/x-python",
   "name": "python",
   "nbconvert_exporter": "python",
   "pygments_lexer": "ipython3",
   "version": "3.11.0"
  }
 },
 "nbformat": 4,
 "nbformat_minor": 5
}
