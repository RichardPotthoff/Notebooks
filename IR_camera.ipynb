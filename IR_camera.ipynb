{
 "cells": [
  {
   "cell_type": "markdown",
   "id": "d922c8ae-0659-42fd-ae37-19d3060ccabe",
   "metadata": {},
   "source": [
    "[![Run Jupyter Notebooks](https://mybinder.org/badge_logo.svg)](https://mybinder.org/v2/gh/RichardPotthoff/Notebooks/main?filepath=IR_camera.ipynb)\n",
    "\n",
    "[![Open In Colab](https://colab.research.google.com/assets/colab-badge.svg)](https://colab.research.google.com/github/RichardPotthoff/Climate/blob/main/.ipynb)"
   ]
  },
  {
   "cell_type": "code",
   "execution_count": 5,
   "id": "2af6c691-6bae-4e50-bc99-b48a0308ac0e",
   "metadata": {},
   "outputs": [
    {
     "name": "stdout",
     "output_type": "stream",
     "text": [
      "T_MirrorImage-273.15 = 20.25°C\n"
     ]
    }
   ],
   "source": [
    "T_Reflector=273.17+18\n",
    "T_Object=273.15+32\n",
    "emissivity=0.85\n",
    "T_MirrorImage=(emissivity*T_Reflector**4+(1-emissivity)*T_Object**4)**(1/4)\n",
    "print(f'{T_MirrorImage-273.15 = :0.2f}°C')"
   ]
  },
  {
   "cell_type": "code",
   "execution_count": 12,
   "id": "dc984f44-c05e-4596-9786-f4bc684a5a52",
   "metadata": {},
   "outputs": [
    {
     "name": "stdout",
     "output_type": "stream",
     "text": [
      "emissivity  = 0.850\n",
      "reflectivity= 0.150\n"
     ]
    }
   ],
   "source": [
    "T_Reflector=273.17+18\n",
    "T_Object=273.15+32\n",
    "T_MirrorImage=273.15+20.25\n",
    "emissivity=(T_MirrorImage**4-T_Object**4)/(T_Reflector**4-T_Object**4)\n",
    "print(f'{emissivity  = :0.3f}\\nreflectivity= {1.0-emissivity:0.3f}') "
   ]
  },
  {
   "cell_type": "code",
   "execution_count": null,
   "id": "9e56ab6d-f911-4967-8aa8-2c3d7c28cf64",
   "metadata": {},
   "outputs": [],
   "source": []
  }
 ],
 "metadata": {
  "kernelspec": {
   "display_name": "Python 3 (ipykernel)",
   "language": "python",
   "name": "python3"
  },
  "language_info": {
   "codemirror_mode": {
    "name": "ipython",
    "version": 3
   },
   "file_extension": ".py",
   "mimetype": "text/x-python",
   "name": "python",
   "nbconvert_exporter": "python",
   "pygments_lexer": "ipython3",
   "version": "3.11.0"
  }
 },
 "nbformat": 4,
 "nbformat_minor": 5
}
